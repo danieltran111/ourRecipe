{
 "cells": [
  {
   "cell_type": "markdown",
   "id": "96f5d44b-4e26-44a0-bb31-a039f4f21a9a",
   "metadata": {},
   "source": [
    "# Setup"
   ]
  },
  {
   "cell_type": "code",
   "execution_count": 5,
   "id": "39394f1d-75ba-4934-982c-d21db140749b",
   "metadata": {},
   "outputs": [],
   "source": [
    "import json\n",
    "import pandas as pd\n",
    "import numpy as np\n",
    "import os\n",
    "import boto3"
   ]
  },
  {
   "cell_type": "code",
   "execution_count": 3,
   "id": "d2c06aed-8810-49bc-a2f2-55760742745e",
   "metadata": {},
   "outputs": [],
   "source": [
    "AWS_ACCESS_KEY_ID = os.environ[\"AWS_ACCESS_KEY_ID\"]\n",
    "AWS_SECRET_ACCESS_KEY = os.environ[\"AWS_SECRET_ACCESS_KEY\"]\n",
    "AWS_DEFAULT_REGION = os.environ[\"AWS_DEFAULT_REGION\"]"
   ]
  },
  {
   "cell_type": "code",
   "execution_count": 2,
   "id": "0d99b8a7-eb43-43cd-a089-73a6337d5f1d",
   "metadata": {},
   "outputs": [
    {
     "data": {
      "text/plain": [
       "'eu-west-3'"
      ]
     },
     "execution_count": 2,
     "metadata": {},
     "output_type": "execute_result"
    }
   ],
   "source": [
    "os.environ['AWS_DEFAULT_REGION']"
   ]
  },
  {
   "cell_type": "markdown",
   "id": "efaf6eb0-4d74-4f10-acf5-396922effe1c",
   "metadata": {},
   "source": [
    "# Data exploration"
   ]
  },
  {
   "cell_type": "code",
   "execution_count": 8,
   "id": "265833c6-4343-4df5-82c4-5f9363ae589b",
   "metadata": {},
   "outputs": [
    {
     "data": {
      "text/plain": [
       "dict_keys(['Items', 'Count', 'ScannedCount', 'ConsumedCapacity'])"
      ]
     },
     "execution_count": 8,
     "metadata": {},
     "output_type": "execute_result"
    }
   ],
   "source": [
    "with open(\"Recipes.json\", \"r\") as f:\n",
    "    ds = json.load(f)\n",
    "ds.keys()"
   ]
  },
  {
   "cell_type": "code",
   "execution_count": 17,
   "id": "351a12d1-2205-4d04-9a39-2b8d2db44809",
   "metadata": {},
   "outputs": [
    {
     "data": {
      "text/plain": [
       "8"
      ]
     },
     "execution_count": 17,
     "metadata": {},
     "output_type": "execute_result"
    }
   ],
   "source": [
    "ds[\"Count\"]"
   ]
  },
  {
   "cell_type": "code",
   "execution_count": 14,
   "id": "d1e2492f-40da-43ee-9d52-c44111278d25",
   "metadata": {},
   "outputs": [
    {
     "data": {
      "text/plain": [
       "dict_keys(['date', 'nutriScore', 'id', 'data'])"
      ]
     },
     "execution_count": 14,
     "metadata": {},
     "output_type": "execute_result"
    }
   ],
   "source": [
    "ds[\"Items\"][0].keys()"
   ]
  },
  {
   "cell_type": "code",
   "execution_count": 16,
   "id": "aa6f0bf4-5dcd-40ce-921d-dc8520c38d52",
   "metadata": {},
   "outputs": [
    {
     "data": {
      "text/plain": [
       "{'N': '-297529017418066210'}"
      ]
     },
     "execution_count": 16,
     "metadata": {},
     "output_type": "execute_result"
    }
   ],
   "source": [
    "ds[\"Items\"][0][\"nutriScore\"]"
   ]
  },
  {
   "cell_type": "code",
   "execution_count": 38,
   "id": "b5fd5d5e-e3a8-499f-94c5-b9b109334c9a",
   "metadata": {},
   "outputs": [
    {
     "data": {
      "text/plain": [
       "dict_keys(['mealType', 'ingredients', 'title', 'numServings', 'cookingMethod', 'nutritionTable'])"
      ]
     },
     "execution_count": 38,
     "metadata": {},
     "output_type": "execute_result"
    }
   ],
   "source": [
    "first_recipe = ds[\"Items\"][0][\"data\"]['M']\n",
    "first_recipe.keys()"
   ]
  },
  {
   "cell_type": "code",
   "execution_count": 25,
   "id": "df2101d7-b243-4788-8e3c-74f68de044b8",
   "metadata": {},
   "outputs": [
    {
     "data": {
      "text/plain": [
       "{'S': 'Snack'}"
      ]
     },
     "execution_count": 25,
     "metadata": {},
     "output_type": "execute_result"
    }
   ],
   "source": [
    "first_recipe[\"mealType\"]"
   ]
  },
  {
   "cell_type": "code",
   "execution_count": 35,
   "id": "b57f729e-e54a-41d6-a722-3d93f0236370",
   "metadata": {},
   "outputs": [
    {
     "data": {
      "text/plain": [
       "{'S': 'Add all ingredients to a blender and\\nblend on full power.'}"
      ]
     },
     "execution_count": 35,
     "metadata": {},
     "output_type": "execute_result"
    }
   ],
   "source": [
    "first_recipe[\"cookingMethod\"]"
   ]
  },
  {
   "cell_type": "code",
   "execution_count": 46,
   "id": "12961a27-a0da-4849-b8d4-9c96d21d3501",
   "metadata": {},
   "outputs": [
    {
     "data": {
      "text/plain": [
       "{'kcal': {'M': {'percentOfDailyNeeds': {'N': '17.82'},\n",
       "   'amount': {'N': '356.4'},\n",
       "   'unit': {'S': ''}}},\n",
       " 'sodium': {'M': {'percentOfDailyNeeds': {'N': '6.12'},\n",
       "   'amount': {'N': '140.72'},\n",
       "   'unit': {'S': 'mg'}}},\n",
       " 'sugars': {'M': {'percentOfDailyNeeds': {'N': '28.82'},\n",
       "   'amount': {'N': '25.94'},\n",
       "   'unit': {'S': 'g'}}},\n",
       " 'carbs': {'M': {'percentOfDailyNeeds': {'N': '12.58'},\n",
       "   'amount': {'N': '34.59'},\n",
       "   'unit': {'S': 'g'}}},\n",
       " 'protein': {'M': {'percentOfDailyNeeds': {'N': '68.43'},\n",
       "   'amount': {'N': '34.21'},\n",
       "   'unit': {'S': 'g'}}},\n",
       " 'fat': {'M': {'percentOfDailyNeeds': {'N': '15.63'},\n",
       "   'amount': {'N': '10.16'},\n",
       "   'unit': {'S': 'g'}}},\n",
       " 'saturates': {'M': {'percentOfDailyNeeds': {'N': '32.21'},\n",
       "   'amount': {'N': '5.15'},\n",
       "   'unit': {'S': 'g'}}},\n",
       " 'fibre': {'M': {'percentOfDailyNeeds': {'N': '10.4'},\n",
       "   'amount': {'N': '2.6'},\n",
       "   'unit': {'S': 'g'}}}}"
      ]
     },
     "execution_count": 46,
     "metadata": {},
     "output_type": "execute_result"
    }
   ],
   "source": [
    "first_recipe[\"nutritionTable\"]['M']"
   ]
  },
  {
   "cell_type": "code",
   "execution_count": 37,
   "id": "7edbbdc5-81dc-471b-bc42-1db403ea655b",
   "metadata": {},
   "outputs": [
    {
     "data": {
      "text/html": [
       "<div>\n",
       "<style scoped>\n",
       "    .dataframe tbody tr th:only-of-type {\n",
       "        vertical-align: middle;\n",
       "    }\n",
       "\n",
       "    .dataframe tbody tr th {\n",
       "        vertical-align: top;\n",
       "    }\n",
       "\n",
       "    .dataframe thead th {\n",
       "        text-align: right;\n",
       "    }\n",
       "</style>\n",
       "<table border=\"1\" class=\"dataframe\">\n",
       "  <thead>\n",
       "    <tr style=\"text-align: right;\">\n",
       "      <th></th>\n",
       "      <th>kcal</th>\n",
       "      <th>sodium</th>\n",
       "      <th>sugars</th>\n",
       "      <th>carbs</th>\n",
       "      <th>protein</th>\n",
       "      <th>fat</th>\n",
       "      <th>saturates</th>\n",
       "      <th>fibre</th>\n",
       "    </tr>\n",
       "  </thead>\n",
       "  <tbody>\n",
       "    <tr>\n",
       "      <th>M</th>\n",
       "      <td>{'percentOfDailyNeeds': {'N': '17.82'}, 'amoun...</td>\n",
       "      <td>{'percentOfDailyNeeds': {'N': '6.12'}, 'amount...</td>\n",
       "      <td>{'percentOfDailyNeeds': {'N': '28.82'}, 'amoun...</td>\n",
       "      <td>{'percentOfDailyNeeds': {'N': '12.58'}, 'amoun...</td>\n",
       "      <td>{'percentOfDailyNeeds': {'N': '68.43'}, 'amoun...</td>\n",
       "      <td>{'percentOfDailyNeeds': {'N': '15.63'}, 'amoun...</td>\n",
       "      <td>{'percentOfDailyNeeds': {'N': '32.21'}, 'amoun...</td>\n",
       "      <td>{'percentOfDailyNeeds': {'N': '10.4'}, 'amount...</td>\n",
       "    </tr>\n",
       "  </tbody>\n",
       "</table>\n",
       "</div>"
      ],
      "text/plain": [
       "                                                kcal  \\\n",
       "M  {'percentOfDailyNeeds': {'N': '17.82'}, 'amoun...   \n",
       "\n",
       "                                              sodium  \\\n",
       "M  {'percentOfDailyNeeds': {'N': '6.12'}, 'amount...   \n",
       "\n",
       "                                              sugars  \\\n",
       "M  {'percentOfDailyNeeds': {'N': '28.82'}, 'amoun...   \n",
       "\n",
       "                                               carbs  \\\n",
       "M  {'percentOfDailyNeeds': {'N': '12.58'}, 'amoun...   \n",
       "\n",
       "                                             protein  \\\n",
       "M  {'percentOfDailyNeeds': {'N': '68.43'}, 'amoun...   \n",
       "\n",
       "                                                 fat  \\\n",
       "M  {'percentOfDailyNeeds': {'N': '15.63'}, 'amoun...   \n",
       "\n",
       "                                           saturates  \\\n",
       "M  {'percentOfDailyNeeds': {'N': '32.21'}, 'amoun...   \n",
       "\n",
       "                                               fibre  \n",
       "M  {'percentOfDailyNeeds': {'N': '10.4'}, 'amount...  "
      ]
     },
     "execution_count": 37,
     "metadata": {},
     "output_type": "execute_result"
    }
   ],
   "source": [
    "pd.DataFrame.from_dict(first_recipe[\"nutritionTable\"]['M'])"
   ]
  },
  {
   "cell_type": "code",
   "execution_count": 34,
   "id": "b77600ca-5049-4566-b279-22c347dc8ffd",
   "metadata": {},
   "outputs": [
    {
     "data": {
      "text/plain": [
       "{'Breakfast', 'Dinner', 'Lunch', 'Snack'}"
      ]
     },
     "execution_count": 34,
     "metadata": {},
     "output_type": "execute_result"
    }
   ],
   "source": [
    "possible_mealType = set()\n",
    "for recipe in ds[\"Items\"]:\n",
    "    possible_mealType.add(recipe[\"data\"]['M'][\"mealType\"]['S'])\n",
    "possible_mealType"
   ]
  },
  {
   "cell_type": "code",
   "execution_count": 47,
   "id": "daf1c951-c3bd-438b-9ca2-2fb0b1fc4202",
   "metadata": {},
   "outputs": [
    {
     "data": {
      "text/plain": [
       "{'', 'g', 'mg'}"
      ]
     },
     "execution_count": 47,
     "metadata": {},
     "output_type": "execute_result"
    }
   ],
   "source": [
    "possible_units = set()\n",
    "for recipe in ds[\"Items\"]:\n",
    "    nut_tab = recipe[\"data\"]['M'][\"nutritionTable\"]['M']\n",
    "    for nutrition in nut_tab.values():\n",
    "        possible_units.add(nutrition['M']['unit']['S'])\n",
    "possible_units"
   ]
  },
  {
   "cell_type": "markdown",
   "id": "726ac85c-c3e5-43e6-8358-7eaab5071630",
   "metadata": {},
   "source": [
    "# Upload data to DynamoDB"
   ]
  },
  {
   "cell_type": "code",
   "execution_count": null,
   "id": "89d06bde-3e99-4e45-be9f-8eb3d99f50d5",
   "metadata": {},
   "outputs": [],
   "source": [
    "# Create table\n",
    "# !aws dynamodb create-table --cli-input-json file://Recipes_schema.json"
   ]
  },
  {
   "cell_type": "code",
   "execution_count": 9,
   "id": "0c1a6727-c15e-4d6e-bf7b-e067c69f794c",
   "metadata": {},
   "outputs": [],
   "source": [
    "dynamoclient = boto3.client('dynamodb', region_name=AWS_DEFAULT_REGION,\n",
    "    aws_access_key_id=AWS_ACCESS_KEY_ID,\n",
    "    aws_secret_access_key=AWS_SECRET_ACCESS_KEY)\n",
    "targettabname = \"Recipes\""
   ]
  },
  {
   "cell_type": "code",
   "execution_count": null,
   "id": "d04bd84c-d668-4efc-a6fc-7115909fb743",
   "metadata": {},
   "outputs": [],
   "source": [
    "# Upload Recipes.json -> Recipes\n",
    "for item in ds[\"Items\"]:\n",
    "    response = dynamoclient.put_item(\n",
    "        TableName=targettabname,\n",
    "        Item=item\n",
    "    )"
   ]
  }
 ],
 "metadata": {
  "kernelspec": {
   "display_name": "Python 3",
   "language": "python",
   "name": "python3"
  },
  "language_info": {
   "codemirror_mode": {
    "name": "ipython",
    "version": 3
   },
   "file_extension": ".py",
   "mimetype": "text/x-python",
   "name": "python",
   "nbconvert_exporter": "python",
   "pygments_lexer": "ipython3",
   "version": "3.9.12"
  }
 },
 "nbformat": 4,
 "nbformat_minor": 5
}
