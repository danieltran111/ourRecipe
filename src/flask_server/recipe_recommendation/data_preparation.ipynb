{
 "cells": [
  {
   "cell_type": "markdown",
   "id": "497ac568-f381-4d03-81e2-cc9a1b52f0b8",
   "metadata": {},
   "source": [
    "# Setup"
   ]
  },
  {
   "cell_type": "code",
   "execution_count": 1,
   "id": "ec939ddf-5430-4ab3-84a1-3353a615fe87",
   "metadata": {},
   "outputs": [],
   "source": [
    "import json\n",
    "import pandas as pd\n",
    "import numpy as np\n",
    "import os\n",
    "import boto3"
   ]
  },
  {
   "cell_type": "code",
   "execution_count": 2,
   "id": "9cc68823-fff6-4283-9d30-c7cb51784b18",
   "metadata": {},
   "outputs": [],
   "source": [
    "AWS_ACCESS_KEY_ID = os.environ[\"AWS_ACCESS_KEY_ID\"]\n",
    "AWS_SECRET_ACCESS_KEY = os.environ[\"AWS_SECRET_ACCESS_KEY\"]\n",
    "AWS_DEFAULT_REGION = os.environ[\"AWS_DEFAULT_REGION\"]"
   ]
  },
  {
   "cell_type": "code",
   "execution_count": 3,
   "id": "cf1faea0-1b2a-416f-9982-b244ed379ecb",
   "metadata": {},
   "outputs": [
    {
     "data": {
      "text/plain": [
       "'eu-west-3'"
      ]
     },
     "execution_count": 3,
     "metadata": {},
     "output_type": "execute_result"
    }
   ],
   "source": [
    "os.environ['AWS_DEFAULT_REGION']"
   ]
  },
  {
   "cell_type": "code",
   "execution_count": 4,
   "id": "a9ebedc0-7614-4b0f-ab0f-c6b27a7b63d2",
   "metadata": {},
   "outputs": [],
   "source": [
    "dynamoclient = boto3.client('dynamodb', region_name=AWS_DEFAULT_REGION,\n",
    "    aws_access_key_id=AWS_ACCESS_KEY_ID,\n",
    "    aws_secret_access_key=AWS_SECRET_ACCESS_KEY)\n",
    "targettabname = \"Recipes\""
   ]
  },
  {
   "cell_type": "markdown",
   "id": "2c971633-fbf1-43ce-bdcb-5a76ba06963a",
   "metadata": {
    "jp-MarkdownHeadingCollapsed": true,
    "tags": []
   },
   "source": [
    "# Download data from DynamoDB -> Json"
   ]
  },
  {
   "cell_type": "code",
   "execution_count": 5,
   "id": "96b3bc08-413b-491c-bc45-35fe7d0184ad",
   "metadata": {},
   "outputs": [
    {
     "data": {
      "text/plain": [
       "botocore.paginate.PageIterator"
      ]
     },
     "execution_count": 5,
     "metadata": {},
     "output_type": "execute_result"
    }
   ],
   "source": [
    "dynamopaginator = dynamoclient.get_paginator('scan')\n",
    "dynamoresponse = dynamopaginator.paginate(\n",
    "    TableName=targettabname,\n",
    "    Select='ALL_ATTRIBUTES',\n",
    "    ReturnConsumedCapacity='NONE',\n",
    "    ConsistentRead=True\n",
    ")\n",
    "type(dynamoresponse)"
   ]
  },
  {
   "cell_type": "code",
   "execution_count": 15,
   "id": "14474ddd-928a-4d05-9501-a892039190b5",
   "metadata": {},
   "outputs": [],
   "source": [
    "for page in dynamoresponse:\n",
    "    ds = page"
   ]
  },
  {
   "cell_type": "code",
   "execution_count": 14,
   "id": "1a6272ad-0701-436e-9583-9607f4242875",
   "metadata": {},
   "outputs": [],
   "source": [
    "with open(\"foo.json\", \"w\") as f:\n",
    "    json.dump(ds, f)"
   ]
  },
  {
   "cell_type": "markdown",
   "id": "09aa31d7-82ed-4497-87ba-23da5069ead9",
   "metadata": {},
   "source": [
    "# Data exploration"
   ]
  },
  {
   "cell_type": "code",
   "execution_count": 17,
   "id": "2c48619d-0d6d-4d55-875c-d40a1508e17d",
   "metadata": {},
   "outputs": [
    {
     "data": {
      "text/plain": [
       "dict_keys(['Items', 'Count', 'ScannedCount', 'ResponseMetadata'])"
      ]
     },
     "execution_count": 17,
     "metadata": {},
     "output_type": "execute_result"
    }
   ],
   "source": [
    "ds.keys()"
   ]
  },
  {
   "cell_type": "code",
   "execution_count": 21,
   "id": "ccec6505-3585-4c09-9be1-7c92c5a20e96",
   "metadata": {},
   "outputs": [],
   "source": [
    "ds = ds[\"Items\"]"
   ]
  },
  {
   "cell_type": "code",
   "execution_count": 25,
   "id": "48d09782-a684-4ac9-bbf2-5f73dda20372",
   "metadata": {},
   "outputs": [],
   "source": [
    "first_recipe = ds[0]"
   ]
  },
  {
   "cell_type": "code",
   "execution_count": 26,
   "id": "076290ff-7538-4cf7-8895-56109b5a258d",
   "metadata": {},
   "outputs": [
    {
     "data": {
      "text/plain": [
       "dict_keys(['date', 'nutriScore', 'id', 'data'])"
      ]
     },
     "execution_count": 26,
     "metadata": {},
     "output_type": "execute_result"
    }
   ],
   "source": [
    "first_recipe.keys()"
   ]
  },
  {
   "cell_type": "code",
   "execution_count": 30,
   "id": "6037acd0-30ac-45b9-93f4-a4852267166f",
   "metadata": {},
   "outputs": [
    {
     "data": {
      "text/plain": [
       "dict_keys(['mealType', 'ingredients', 'title', 'numServings', 'cookingMethod', 'nutritionTable'])"
      ]
     },
     "execution_count": 30,
     "metadata": {},
     "output_type": "execute_result"
    }
   ],
   "source": [
    "first_recipe['data']['M'].keys()"
   ]
  },
  {
   "cell_type": "code",
   "execution_count": 55,
   "id": "02f25544-b07f-427e-9529-015e64a22351",
   "metadata": {},
   "outputs": [
    {
     "data": {
      "text/plain": [
       "{'M': {'hover': {'BOOL': False},\n",
       "  'amount': {'S': '1'},\n",
       "  'unit': {'S': 'serving'},\n",
       "  'nutrition': {'M': {'kcal': {'M': {'name': {'S': 'Calories'},\n",
       "      'amount': {'N': '146.4'},\n",
       "      'unit': {'S': 'kcal'},\n",
       "      'percentOfDailyNeeds': {'N': '7.32'}}},\n",
       "    'sodium': {'M': {'name': {'S': 'Sodium'},\n",
       "      'amount': {'N': '92.72'},\n",
       "      'unit': {'S': 'mg'},\n",
       "      'percentOfDailyNeeds': {'N': '4.03'}}},\n",
       "    'sugars': {'M': {'name': {'S': 'Sugar'},\n",
       "      'amount': {'N': '11.74'},\n",
       "      'unit': {'S': 'g'},\n",
       "      'percentOfDailyNeeds': {'N': '13.04'}}},\n",
       "    'carbs': {'M': {'name': {'S': 'Net Carbohydrates'},\n",
       "      'amount': {'N': '11.39'},\n",
       "      'unit': {'S': 'g'},\n",
       "      'percentOfDailyNeeds': {'N': '4.14'}}},\n",
       "    'protein': {'M': {'name': {'S': 'Protein'},\n",
       "      'amount': {'N': '8'},\n",
       "      'unit': {'S': 'g'},\n",
       "      'percentOfDailyNeeds': {'N': '16.01'}}},\n",
       "    'fat': {'M': {'name': {'S': 'Fat'},\n",
       "      'amount': {'N': '7.81'},\n",
       "      'unit': {'S': 'g'},\n",
       "      'percentOfDailyNeeds': {'N': '12.01'}}},\n",
       "    'saturates': {'M': {'name': {'S': 'Saturated Fat'},\n",
       "      'amount': {'N': '4.54'},\n",
       "      'unit': {'S': 'g'},\n",
       "      'percentOfDailyNeeds': {'N': '28.37'}}},\n",
       "    'fibre': {'M': {'name': {'S': 'Fiber'},\n",
       "      'amount': {'N': '0'},\n",
       "      'unit': {'S': 'g'},\n",
       "      'percentOfDailyNeeds': {'N': '0'}}}}},\n",
       "  'edit': {'BOOL': False},\n",
       "  'name': {'S': 'milk'},\n",
       "  'possibleUnits': {'L': [{'S': 'quart'},\n",
       "    {'S': 'g'},\n",
       "    {'S': 'oz'},\n",
       "    {'S': 'teaspoon'},\n",
       "    {'S': 'fluid ounce'},\n",
       "    {'S': 'cup'},\n",
       "    {'S': 'serving'},\n",
       "    {'S': 'tablespoon'}]},\n",
       "  'id': {'N': '1077'}}}"
      ]
     },
     "execution_count": 55,
     "metadata": {},
     "output_type": "execute_result"
    }
   ],
   "source": [
    "first_recipe['data']['M']['ingredients']['L'][0]"
   ]
  },
  {
   "cell_type": "code",
   "execution_count": 28,
   "id": "62e7ad8f-c06d-4d8b-a6b2-54eeea176ec6",
   "metadata": {},
   "outputs": [
    {
     "data": {
      "text/plain": [
       "{'kcal': {'M': {'percentOfDailyNeeds': {'N': '17.82'},\n",
       "   'amount': {'N': '356.4'},\n",
       "   'unit': {'S': ''}}},\n",
       " 'sodium': {'M': {'percentOfDailyNeeds': {'N': '6.12'},\n",
       "   'amount': {'N': '140.72'},\n",
       "   'unit': {'S': 'mg'}}},\n",
       " 'sugars': {'M': {'percentOfDailyNeeds': {'N': '28.82'},\n",
       "   'amount': {'N': '25.94'},\n",
       "   'unit': {'S': 'g'}}},\n",
       " 'carbs': {'M': {'percentOfDailyNeeds': {'N': '12.58'},\n",
       "   'amount': {'N': '34.59'},\n",
       "   'unit': {'S': 'g'}}},\n",
       " 'protein': {'M': {'percentOfDailyNeeds': {'N': '68.43'},\n",
       "   'amount': {'N': '34.21'},\n",
       "   'unit': {'S': 'g'}}},\n",
       " 'fat': {'M': {'percentOfDailyNeeds': {'N': '15.63'},\n",
       "   'amount': {'N': '10.16'},\n",
       "   'unit': {'S': 'g'}}},\n",
       " 'saturates': {'M': {'percentOfDailyNeeds': {'N': '32.21'},\n",
       "   'amount': {'N': '5.15'},\n",
       "   'unit': {'S': 'g'}}},\n",
       " 'fibre': {'M': {'percentOfDailyNeeds': {'N': '10.4'},\n",
       "   'amount': {'N': '2.6'},\n",
       "   'unit': {'S': 'g'}}}}"
      ]
     },
     "execution_count": 28,
     "metadata": {},
     "output_type": "execute_result"
    }
   ],
   "source": [
    "first_recipe[\"data\"]['M'][\"nutritionTable\"]['M']"
   ]
  },
  {
   "cell_type": "code",
   "execution_count": 39,
   "id": "07718c5b-2ee8-4cd2-adb1-42ab0a66a4c1",
   "metadata": {},
   "outputs": [],
   "source": [
    "fibre_dict = first_recipe[\"data\"]['M'][\"nutritionTable\"]['M']['fibre']"
   ]
  },
  {
   "cell_type": "markdown",
   "id": "6654e1f3-23a0-42fc-aa41-1671b1f62a44",
   "metadata": {},
   "source": [
    "# Transform Recipes.json -> csv"
   ]
  },
  {
   "cell_type": "markdown",
   "id": "a8e9f1c1-a6d3-4d2a-9548-00f477f026cd",
   "metadata": {},
   "source": [
    "recipe_model = {\n",
    "    Id: number,\n",
    "    title: string,\n",
    "    kcal: float,\n",
    "    sodium: float,\n",
    "    sugars: float,\n",
    "    carbs: float,\n",
    "    protein: float,\n",
    "    fat: float,\n",
    "    saturates: float,\n",
    "    fibre: float,\n",
    "    nutriScore: float,\n",
    "}"
   ]
  },
  {
   "cell_type": "code",
   "execution_count": 51,
   "id": "3e7ad890-63f9-4882-b272-bcae82697fea",
   "metadata": {},
   "outputs": [],
   "source": [
    "def convert(amount: float, unit_ratio: dict = {\"mg\": 0.001, \"g\": 1}, unit_from: str = 'mg') -> float:\n",
    "    \"\"\"\n",
    "    Convert an amount from unit_from to unit_to. Unit ratio is a dict that shows how much of the key is equal to 1g.\n",
    "    For example, \"mg\": 0.001 means 1 mg = 0.001g.\n",
    "    \"\"\"\n",
    "    try:\n",
    "        to_amount = amount * unit_ratio[unit_from]\n",
    "    except KeyError:\n",
    "        print(\"Units don't exist in the ration dict\")\n",
    "        return None\n",
    "    return to_amount\n",
    "def extract_reqFields(data: dict, req_fields: list) -> dict:\n",
    "    \"\"\"Read in a nutrition dictionary follow format returned by AWS DynamoDB API. Then return the needed fields in appropriate type.\n",
    "    Symbols that \n",
    "    Example: \n",
    "    {'M': {'percentOfDailyNeeds': {'N': '10.4'},\n",
    "      'amount': {'N': '2.6'},\n",
    "      'unit': {'S': 'g'}}}\n",
    "    Supported types: 'S', 'N', 'M', 'BOOL'\n",
    "    \"\"\"\n",
    "    result = {}\n",
    "    for field in req_fields:\n",
    "        field_data = data[field]\n",
    "        field_keys = field_data.keys()\n",
    "        for key in field_keys:\n",
    "            if key in set(['M', 'S', 'BOOL']):\n",
    "                result[field] = field_data[key]\n",
    "            elif key == 'N':\n",
    "                result[field] = float(field_data[key])\n",
    "            else:\n",
    "                print(f\"Type of {field} field not supported: {key}\")\n",
    "                return None\n",
    "    return result"
   ]
  },
  {
   "cell_type": "code",
   "execution_count": 52,
   "id": "050c012d-c7bb-4a42-bd9f-a5f59da77ee0",
   "metadata": {},
   "outputs": [
    {
     "data": {
      "text/plain": [
       "{'amount': 2.6, 'unit': 'g'}"
      ]
     },
     "execution_count": 52,
     "metadata": {},
     "output_type": "execute_result"
    }
   ],
   "source": [
    "extract_reqFields(fibre_dict['M'], req_fields= [\"amount\", \"unit\"])"
   ]
  },
  {
   "cell_type": "code",
   "execution_count": 77,
   "id": "8a63d9c0-dafc-48d0-a01d-9370c097d437",
   "metadata": {},
   "outputs": [],
   "source": [
    "def preprocess_nutrition(nutri_table: dict, req_nutri: list) -> list:\n",
    "    \"\"\"\n",
    "    Preprocess nutritions of a recipe, convert to g, and adding to a list.\n",
    "    The input req_nutri provides the list of required nutritions. The returned list will follow the order provided in req_nutri.\n",
    "    Example: [\"kcal\" ,\"sodium\", \"sugars\", \"carbs\", \"protein\", \"fat\", \"saturates\", \"fibre\"].\n",
    "    \"\"\"\n",
    "    result = []\n",
    "    for nutri in req_nutri:\n",
    "        nutri_detail = extract_reqFields(nutri_table[nutri]['M'], req_fields = [\"amount\", \"unit\"])\n",
    "        org_amount = nutri_detail[\"amount\"]\n",
    "        transformed_amount = convert(amount = org_amount, unit_ratio = {'': 1, \"mg\": 0.001, \"g\": 1}, unit_from = nutri_detail[\"unit\"])\n",
    "        result.append(transformed_amount)\n",
    "    return result"
   ]
  },
  {
   "cell_type": "code",
   "execution_count": 86,
   "id": "2c5bb6bd-ad49-41a2-891e-20f1e0eb8136",
   "metadata": {},
   "outputs": [],
   "source": [
    "def preprocess_recipe(recipe: dict, req_nutri: list) -> list:\n",
    "    \"\"\"\n",
    "    Preprocess a recipe and put relevant data into a list.\n",
    "    Recipe is a dict with the following keys: ['date', 'nutriScore', 'id', 'data']\n",
    "    The returned list follows the Recipes table modelling.\n",
    "    \"\"\"\n",
    "    result = []\n",
    "    recipe_id = int(recipe[\"id\"][\"N\"]); result.append(recipe_id)\n",
    "    recipe_score = float(recipe[\"nutriScore\"][\"N\"]); result.append(recipe_score)\n",
    "    nutri_table = recipe[\"data\"][\"M\"][\"nutritionTable\"]['M']\n",
    "    result.extend(preprocess_nutrition(nutri_table, req_nutri = req_nutri))\n",
    "    return result"
   ]
  },
  {
   "cell_type": "code",
   "execution_count": 78,
   "id": "aa77f150-cfad-488c-851d-53d960b0d52b",
   "metadata": {},
   "outputs": [
    {
     "data": {
      "text/plain": [
       "[356.4, 0.14072, 25.94, 34.59, 34.21, 10.16, 5.15, 2.6]"
      ]
     },
     "execution_count": 78,
     "metadata": {},
     "output_type": "execute_result"
    }
   ],
   "source": [
    "preprocess_nutrition(first_recipe[\"data\"]['M'][\"nutritionTable\"]['M'], [\"kcal\" ,\"sodium\", \"sugars\", \"carbs\", \"protein\", \"fat\", \"saturates\", \"fibre\"])"
   ]
  },
  {
   "cell_type": "code",
   "execution_count": 87,
   "id": "2e155f04-932d-442d-8532-960bbc8c6776",
   "metadata": {},
   "outputs": [
    {
     "data": {
      "text/plain": [
       "[-297529017418066210,\n",
       " 60.0,\n",
       " 356.4,\n",
       " 0.14072,\n",
       " 25.94,\n",
       " 34.59,\n",
       " 34.21,\n",
       " 10.16,\n",
       " 5.15,\n",
       " 2.6]"
      ]
     },
     "execution_count": 87,
     "metadata": {},
     "output_type": "execute_result"
    }
   ],
   "source": [
    "nutrition_list =  [\"kcal\" ,\"sodium\", \"sugars\", \"carbs\", \"protein\", \"fat\", \"saturates\", \"fibre\"]\n",
    "allRecipes_inf = []\n",
    "for recipe in ds:\n",
    "    allRecipes_inf.append(preprocess_recipe(recipe, req_nutri = nutrition_list))\n",
    "allRecipes_inf[0]"
   ]
  },
  {
   "cell_type": "code",
   "execution_count": 88,
   "id": "1cd5131f-0fad-4100-bdd3-b19351b35ee5",
   "metadata": {},
   "outputs": [
    {
     "data": {
      "text/plain": [
       "8"
      ]
     },
     "execution_count": 88,
     "metadata": {},
     "output_type": "execute_result"
    }
   ],
   "source": [
    "len(allRecipes_inf)"
   ]
  },
  {
   "cell_type": "code",
   "execution_count": 89,
   "id": "24d1a87f-f0a9-47ac-9d01-f6444babd0aa",
   "metadata": {},
   "outputs": [
    {
     "data": {
      "text/html": [
       "<div>\n",
       "<style scoped>\n",
       "    .dataframe tbody tr th:only-of-type {\n",
       "        vertical-align: middle;\n",
       "    }\n",
       "\n",
       "    .dataframe tbody tr th {\n",
       "        vertical-align: top;\n",
       "    }\n",
       "\n",
       "    .dataframe thead th {\n",
       "        text-align: right;\n",
       "    }\n",
       "</style>\n",
       "<table border=\"1\" class=\"dataframe\">\n",
       "  <thead>\n",
       "    <tr style=\"text-align: right;\">\n",
       "      <th></th>\n",
       "      <th>id</th>\n",
       "      <th>nutriScore</th>\n",
       "      <th>kcal</th>\n",
       "      <th>sodium</th>\n",
       "      <th>sugars</th>\n",
       "      <th>carbs</th>\n",
       "      <th>protein</th>\n",
       "      <th>fat</th>\n",
       "      <th>saturates</th>\n",
       "      <th>fibre</th>\n",
       "    </tr>\n",
       "  </thead>\n",
       "  <tbody>\n",
       "    <tr>\n",
       "      <th>0</th>\n",
       "      <td>-297529017418066210</td>\n",
       "      <td>60.00</td>\n",
       "      <td>356.40</td>\n",
       "      <td>0.14072</td>\n",
       "      <td>25.94</td>\n",
       "      <td>34.59</td>\n",
       "      <td>34.21</td>\n",
       "      <td>10.16</td>\n",
       "      <td>5.15</td>\n",
       "      <td>2.60</td>\n",
       "    </tr>\n",
       "    <tr>\n",
       "      <th>1</th>\n",
       "      <td>2984524080050943643</td>\n",
       "      <td>69.09</td>\n",
       "      <td>368.50</td>\n",
       "      <td>1.55038</td>\n",
       "      <td>10.12</td>\n",
       "      <td>40.60</td>\n",
       "      <td>26.65</td>\n",
       "      <td>8.26</td>\n",
       "      <td>6.10</td>\n",
       "      <td>7.54</td>\n",
       "    </tr>\n",
       "    <tr>\n",
       "      <th>2</th>\n",
       "      <td>-134860378839050690</td>\n",
       "      <td>69.09</td>\n",
       "      <td>368.50</td>\n",
       "      <td>1.55038</td>\n",
       "      <td>10.12</td>\n",
       "      <td>40.60</td>\n",
       "      <td>26.65</td>\n",
       "      <td>8.26</td>\n",
       "      <td>6.10</td>\n",
       "      <td>7.54</td>\n",
       "    </tr>\n",
       "    <tr>\n",
       "      <th>3</th>\n",
       "      <td>-6989815825829559279</td>\n",
       "      <td>81.82</td>\n",
       "      <td>505.25</td>\n",
       "      <td>0.28775</td>\n",
       "      <td>6.25</td>\n",
       "      <td>15.25</td>\n",
       "      <td>54.50</td>\n",
       "      <td>21.50</td>\n",
       "      <td>3.25</td>\n",
       "      <td>8.75</td>\n",
       "    </tr>\n",
       "    <tr>\n",
       "      <th>4</th>\n",
       "      <td>1662862941331579196</td>\n",
       "      <td>72.73</td>\n",
       "      <td>115.00</td>\n",
       "      <td>0.00200</td>\n",
       "      <td>23.00</td>\n",
       "      <td>25.00</td>\n",
       "      <td>0.00</td>\n",
       "      <td>0.00</td>\n",
       "      <td>0.00</td>\n",
       "      <td>5.00</td>\n",
       "    </tr>\n",
       "    <tr>\n",
       "      <th>5</th>\n",
       "      <td>6525688955145446406</td>\n",
       "      <td>80.00</td>\n",
       "      <td>58.00</td>\n",
       "      <td>0.00100</td>\n",
       "      <td>0.00</td>\n",
       "      <td>0.00</td>\n",
       "      <td>1.00</td>\n",
       "      <td>3.00</td>\n",
       "      <td>0.00</td>\n",
       "      <td>4.00</td>\n",
       "    </tr>\n",
       "    <tr>\n",
       "      <th>6</th>\n",
       "      <td>-7950659694363478456</td>\n",
       "      <td>61.82</td>\n",
       "      <td>397.00</td>\n",
       "      <td>1.42800</td>\n",
       "      <td>0.00</td>\n",
       "      <td>1.00</td>\n",
       "      <td>28.00</td>\n",
       "      <td>29.00</td>\n",
       "      <td>10.00</td>\n",
       "      <td>0.00</td>\n",
       "    </tr>\n",
       "    <tr>\n",
       "      <th>7</th>\n",
       "      <td>6646347900262682700</td>\n",
       "      <td>80.00</td>\n",
       "      <td>58.32</td>\n",
       "      <td>0.00192</td>\n",
       "      <td>0.00</td>\n",
       "      <td>0.93</td>\n",
       "      <td>1.98</td>\n",
       "      <td>3.69</td>\n",
       "      <td>0.40</td>\n",
       "      <td>4.13</td>\n",
       "    </tr>\n",
       "  </tbody>\n",
       "</table>\n",
       "</div>"
      ],
      "text/plain": [
       "                    id  nutriScore    kcal   sodium  sugars  carbs  protein  \\\n",
       "0  -297529017418066210       60.00  356.40  0.14072   25.94  34.59    34.21   \n",
       "1  2984524080050943643       69.09  368.50  1.55038   10.12  40.60    26.65   \n",
       "2  -134860378839050690       69.09  368.50  1.55038   10.12  40.60    26.65   \n",
       "3 -6989815825829559279       81.82  505.25  0.28775    6.25  15.25    54.50   \n",
       "4  1662862941331579196       72.73  115.00  0.00200   23.00  25.00     0.00   \n",
       "5  6525688955145446406       80.00   58.00  0.00100    0.00   0.00     1.00   \n",
       "6 -7950659694363478456       61.82  397.00  1.42800    0.00   1.00    28.00   \n",
       "7  6646347900262682700       80.00   58.32  0.00192    0.00   0.93     1.98   \n",
       "\n",
       "     fat  saturates  fibre  \n",
       "0  10.16       5.15   2.60  \n",
       "1   8.26       6.10   7.54  \n",
       "2   8.26       6.10   7.54  \n",
       "3  21.50       3.25   8.75  \n",
       "4   0.00       0.00   5.00  \n",
       "5   3.00       0.00   4.00  \n",
       "6  29.00      10.00   0.00  \n",
       "7   3.69       0.40   4.13  "
      ]
     },
     "execution_count": 89,
     "metadata": {},
     "output_type": "execute_result"
    }
   ],
   "source": [
    "df_cols = [\"id\", \"nutriScore\", \"kcal\" ,\"sodium\", \"sugars\", \"carbs\", \"protein\", \"fat\", \"saturates\", \"fibre\"]\n",
    "recipe_df = pd.DataFrame(allRecipes_inf, columns=df_cols)\n",
    "recipe_df"
   ]
  },
  {
   "cell_type": "code",
   "execution_count": 91,
   "id": "c108689c-e93a-49ae-9f96-730c4ef558ae",
   "metadata": {},
   "outputs": [],
   "source": [
    "recipe_df.to_csv(\"recipes.csv\", index = False)"
   ]
  },
  {
   "cell_type": "markdown",
   "id": "813f2152-4e33-4995-8e55-6aa7db1a101c",
   "metadata": {},
   "source": [
    "# Upload csv to S3"
   ]
  },
  {
   "cell_type": "code",
   "execution_count": null,
   "id": "678fe425-ee7e-4568-b343-c4102d8d228a",
   "metadata": {},
   "outputs": [],
   "source": []
  }
 ],
 "metadata": {
  "kernelspec": {
   "display_name": "Python 3",
   "language": "python",
   "name": "python3"
  },
  "language_info": {
   "codemirror_mode": {
    "name": "ipython",
    "version": 3
   },
   "file_extension": ".py",
   "mimetype": "text/x-python",
   "name": "python",
   "nbconvert_exporter": "python",
   "pygments_lexer": "ipython3",
   "version": "3.9.12"
  }
 },
 "nbformat": 4,
 "nbformat_minor": 5
}
