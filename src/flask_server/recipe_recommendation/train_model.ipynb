{
 "cells": [
  {
   "cell_type": "markdown",
   "id": "14c5902c-31a8-42f0-a616-73fec4500e2d",
   "metadata": {},
   "source": [
    "# Setup"
   ]
  },
  {
   "cell_type": "code",
   "execution_count": 14,
   "id": "ce7487a8-49ad-47c9-bd03-4d4be09bd753",
   "metadata": {},
   "outputs": [],
   "source": [
    "import numpy as np\n",
    "import pandas as pd\n",
    "import sklearn\n",
    "import os\n",
    "import boto3"
   ]
  },
  {
   "cell_type": "code",
   "execution_count": 3,
   "id": "32ca4c8d-14ee-4cf8-bba8-e981918574bb",
   "metadata": {},
   "outputs": [],
   "source": [
    "AWS_ACCESS_KEY_ID = os.environ[\"AWS_ACCESS_KEY_ID\"]\n",
    "AWS_SECRET_ACCESS_KEY = os.environ[\"AWS_SECRET_ACCESS_KEY\"]\n",
    "AWS_DEFAULT_REGION = os.environ[\"AWS_DEFAULT_REGION\"]"
   ]
  },
  {
   "cell_type": "code",
   "execution_count": 5,
   "id": "98a49ddf-34aa-4938-bb0d-f0f14bfcf3a2",
   "metadata": {},
   "outputs": [
    {
     "data": {
      "text/plain": [
       "'eu-west-3'"
      ]
     },
     "execution_count": 5,
     "metadata": {},
     "output_type": "execute_result"
    }
   ],
   "source": [
    "os.environ['AWS_DEFAULT_REGION']"
   ]
  },
  {
   "cell_type": "code",
   "execution_count": 10,
   "id": "4ea4ef88-823b-413b-b3df-9c2f6c1e1165",
   "metadata": {},
   "outputs": [],
   "source": [
    "s3_client = boto3.client('s3', region_name=AWS_DEFAULT_REGION,\n",
    "    aws_access_key_id=AWS_ACCESS_KEY_ID,\n",
    "    aws_secret_access_key=AWS_SECRET_ACCESS_KEY)\n",
    "bucket_name = \"our-recipe-recipes-table-test\"\n",
    "file_name = \"recipes.csv\""
   ]
  },
  {
   "cell_type": "markdown",
   "id": "5a237af8-8bf6-4234-99a0-bc408e985dae",
   "metadata": {},
   "source": [
    "# Load the dataset"
   ]
  },
  {
   "cell_type": "code",
   "execution_count": 20,
   "id": "9d8c1ced-38e8-4104-a0a5-b1f664f3a659",
   "metadata": {},
   "outputs": [],
   "source": [
    "s3_client.download_file(bucket_name, file_name, \"data/recipes.csv\")"
   ]
  },
  {
   "cell_type": "code",
   "execution_count": 21,
   "id": "3adef211-2220-4eb7-8966-f7f0b86bd679",
   "metadata": {},
   "outputs": [
    {
     "data": {
      "text/html": [
       "<div>\n",
       "<style scoped>\n",
       "    .dataframe tbody tr th:only-of-type {\n",
       "        vertical-align: middle;\n",
       "    }\n",
       "\n",
       "    .dataframe tbody tr th {\n",
       "        vertical-align: top;\n",
       "    }\n",
       "\n",
       "    .dataframe thead th {\n",
       "        text-align: right;\n",
       "    }\n",
       "</style>\n",
       "<table border=\"1\" class=\"dataframe\">\n",
       "  <thead>\n",
       "    <tr style=\"text-align: right;\">\n",
       "      <th></th>\n",
       "      <th>id</th>\n",
       "      <th>title</th>\n",
       "      <th>nutriScore</th>\n",
       "      <th>mealType</th>\n",
       "      <th>kcal</th>\n",
       "      <th>sodium</th>\n",
       "      <th>sugars</th>\n",
       "      <th>carbs</th>\n",
       "      <th>protein</th>\n",
       "      <th>fat</th>\n",
       "      <th>saturates</th>\n",
       "      <th>fibre</th>\n",
       "    </tr>\n",
       "  </thead>\n",
       "  <tbody>\n",
       "    <tr>\n",
       "      <th>0</th>\n",
       "      <td>-297529017418066210</td>\n",
       "      <td>Coffee Protein Smoothie</td>\n",
       "      <td>60.00</td>\n",
       "      <td>Snack</td>\n",
       "      <td>356.40</td>\n",
       "      <td>0.14072</td>\n",
       "      <td>25.94</td>\n",
       "      <td>34.59</td>\n",
       "      <td>34.21</td>\n",
       "      <td>10.16</td>\n",
       "      <td>5.15</td>\n",
       "      <td>2.60</td>\n",
       "    </tr>\n",
       "    <tr>\n",
       "      <th>1</th>\n",
       "      <td>2984524080050943643</td>\n",
       "      <td>Sear tuna and potatoes</td>\n",
       "      <td>69.09</td>\n",
       "      <td>Dinner</td>\n",
       "      <td>368.50</td>\n",
       "      <td>1.55038</td>\n",
       "      <td>10.12</td>\n",
       "      <td>40.60</td>\n",
       "      <td>26.65</td>\n",
       "      <td>8.26</td>\n",
       "      <td>6.10</td>\n",
       "      <td>7.54</td>\n",
       "    </tr>\n",
       "    <tr>\n",
       "      <th>2</th>\n",
       "      <td>-134860378839050690</td>\n",
       "      <td>Sear tuna and potatoes</td>\n",
       "      <td>69.09</td>\n",
       "      <td>Dinner</td>\n",
       "      <td>368.50</td>\n",
       "      <td>1.55038</td>\n",
       "      <td>10.12</td>\n",
       "      <td>40.60</td>\n",
       "      <td>26.65</td>\n",
       "      <td>8.26</td>\n",
       "      <td>6.10</td>\n",
       "      <td>7.54</td>\n",
       "    </tr>\n",
       "    <tr>\n",
       "      <th>3</th>\n",
       "      <td>-6989815825829559279</td>\n",
       "      <td>Burrito Jars</td>\n",
       "      <td>81.82</td>\n",
       "      <td>Lunch</td>\n",
       "      <td>505.25</td>\n",
       "      <td>0.28775</td>\n",
       "      <td>6.25</td>\n",
       "      <td>15.25</td>\n",
       "      <td>54.50</td>\n",
       "      <td>21.50</td>\n",
       "      <td>3.25</td>\n",
       "      <td>8.75</td>\n",
       "    </tr>\n",
       "    <tr>\n",
       "      <th>4</th>\n",
       "      <td>1662862941331579196</td>\n",
       "      <td>NEW APPLE</td>\n",
       "      <td>72.73</td>\n",
       "      <td>Breakfast</td>\n",
       "      <td>115.00</td>\n",
       "      <td>0.00200</td>\n",
       "      <td>23.00</td>\n",
       "      <td>25.00</td>\n",
       "      <td>0.00</td>\n",
       "      <td>0.00</td>\n",
       "      <td>0.00</td>\n",
       "      <td>5.00</td>\n",
       "    </tr>\n",
       "  </tbody>\n",
       "</table>\n",
       "</div>"
      ],
      "text/plain": [
       "                    id                    title  nutriScore   mealType  \\\n",
       "0  -297529017418066210  Coffee Protein Smoothie       60.00      Snack   \n",
       "1  2984524080050943643   Sear tuna and potatoes       69.09     Dinner   \n",
       "2  -134860378839050690   Sear tuna and potatoes       69.09     Dinner   \n",
       "3 -6989815825829559279             Burrito Jars       81.82      Lunch   \n",
       "4  1662862941331579196                NEW APPLE       72.73  Breakfast   \n",
       "\n",
       "     kcal   sodium  sugars  carbs  protein    fat  saturates  fibre  \n",
       "0  356.40  0.14072   25.94  34.59    34.21  10.16       5.15   2.60  \n",
       "1  368.50  1.55038   10.12  40.60    26.65   8.26       6.10   7.54  \n",
       "2  368.50  1.55038   10.12  40.60    26.65   8.26       6.10   7.54  \n",
       "3  505.25  0.28775    6.25  15.25    54.50  21.50       3.25   8.75  \n",
       "4  115.00  0.00200   23.00  25.00     0.00   0.00       0.00   5.00  "
      ]
     },
     "execution_count": 21,
     "metadata": {},
     "output_type": "execute_result"
    }
   ],
   "source": [
    "df = pd.read_csv(\"data/recipes.csv\")\n",
    "df.head()"
   ]
  },
  {
   "cell_type": "code",
   "execution_count": 19,
   "id": "be82e748-e215-4d78-8bba-087d9d38a3fd",
   "metadata": {},
   "outputs": [],
   "source": [
    "X = df.iloc[:, 2:].to_numpy()"
   ]
  }
 ],
 "metadata": {
  "kernelspec": {
   "display_name": "Python 3",
   "language": "python",
   "name": "python3"
  },
  "language_info": {
   "codemirror_mode": {
    "name": "ipython",
    "version": 3
   },
   "file_extension": ".py",
   "mimetype": "text/x-python",
   "name": "python",
   "nbconvert_exporter": "python",
   "pygments_lexer": "ipython3",
   "version": "3.9.12"
  }
 },
 "nbformat": 4,
 "nbformat_minor": 5
}
