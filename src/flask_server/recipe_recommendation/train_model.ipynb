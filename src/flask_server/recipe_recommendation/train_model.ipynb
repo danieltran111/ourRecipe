{
 "cells": [
  {
   "cell_type": "markdown",
   "id": "02e9526e-8073-4920-a35a-3fc5e78f7281",
   "metadata": {},
   "source": [
    "- Calculate randomized base ration according to https://www.omnicalculator.com/health/meal-calorie. Randomize the first 2/3 meals\n",
    "- Calculate the remaining nutrition based on already chosen meals.\n",
    "- Re-normalize the remaining ratios.\n",
    "- Train the model\n",
    "- Output the predictions. Randomize the top 3 choices and output one of them."
   ]
  },
  {
   "cell_type": "markdown",
   "id": "14c5902c-31a8-42f0-a616-73fec4500e2d",
   "metadata": {},
   "source": [
    "# Setup"
   ]
  },
  {
   "cell_type": "code",
   "execution_count": 23,
   "id": "ce7487a8-49ad-47c9-bd03-4d4be09bd753",
   "metadata": {},
   "outputs": [],
   "source": [
    "import numpy as np\n",
    "import pandas as pd\n",
    "from sklearn.neighbors import NearestNeighbors\n",
    "import io\n",
    "import os\n",
    "import boto3\n",
    "import csv\n",
    "import json\n",
    "import random"
   ]
  },
  {
   "cell_type": "markdown",
   "id": "5a237af8-8bf6-4234-99a0-bc408e985dae",
   "metadata": {
    "tags": []
   },
   "source": [
    "# Load the dataset from S3 (Wait to solve problems on AWS first)"
   ]
  },
  {
   "cell_type": "code",
   "execution_count": 7,
   "id": "32ca4c8d-14ee-4cf8-bba8-e981918574bb",
   "metadata": {},
   "outputs": [],
   "source": [
    "AWS_ACCESS_KEY_ID = os.environ[\"AWS_ACCESS_KEY_ID\"]\n",
    "AWS_SECRET_ACCESS_KEY = os.environ[\"AWS_SECRET_ACCESS_KEY\"]\n",
    "AWS_DEFAULT_REGION = os.environ[\"AWS_DEFAULT_REGION\"]"
   ]
  },
  {
   "cell_type": "code",
   "execution_count": 8,
   "id": "4ea4ef88-823b-413b-b3df-9c2f6c1e1165",
   "metadata": {},
   "outputs": [],
   "source": [
    "s3_client = boto3.client('s3', region_name=AWS_DEFAULT_REGION,\n",
    "    aws_access_key_id=AWS_ACCESS_KEY_ID,\n",
    "    aws_secret_access_key=AWS_SECRET_ACCESS_KEY)\n",
    "bucket_name = \"toeat-mlbucket\"\n",
    "object_key = \"recipes.csv\""
   ]
  },
  {
   "cell_type": "code",
   "execution_count": 9,
   "id": "9d8c1ced-38e8-4104-a0a5-b1f664f3a659",
   "metadata": {},
   "outputs": [],
   "source": [
    "# Read the object directly into memory instead of downloading to local machine.\n",
    "csv_obj = s3_client.get_object(Bucket=bucket_name, Key=object_key)\n",
    "body = csv_obj['Body']\n",
    "csv_string = body.read().decode('utf-8')\n",
    "df = pd.read_csv(io.StringIO(csv_string), dtype = {\"title\": str, \"mealType\": str})\n",
    "#file_stream = io.BytesIO()\n",
    "#s3_client.download_fileobj(bucket_name, file_name, file_stream)"
   ]
  },
  {
   "cell_type": "code",
   "execution_count": 10,
   "id": "bf229c28-d901-4a40-867a-4ce99bddcda3",
   "metadata": {},
   "outputs": [
    {
     "data": {
      "text/html": [
       "<div>\n",
       "<style scoped>\n",
       "    .dataframe tbody tr th:only-of-type {\n",
       "        vertical-align: middle;\n",
       "    }\n",
       "\n",
       "    .dataframe tbody tr th {\n",
       "        vertical-align: top;\n",
       "    }\n",
       "\n",
       "    .dataframe thead th {\n",
       "        text-align: right;\n",
       "    }\n",
       "</style>\n",
       "<table border=\"1\" class=\"dataframe\">\n",
       "  <thead>\n",
       "    <tr style=\"text-align: right;\">\n",
       "      <th></th>\n",
       "      <th>id</th>\n",
       "      <th>title</th>\n",
       "      <th>nutriScore</th>\n",
       "      <th>mealType</th>\n",
       "      <th>kcal</th>\n",
       "      <th>sodium</th>\n",
       "      <th>sugars</th>\n",
       "      <th>carbs</th>\n",
       "      <th>protein</th>\n",
       "      <th>fat</th>\n",
       "      <th>saturates</th>\n",
       "      <th>fibre</th>\n",
       "    </tr>\n",
       "  </thead>\n",
       "  <tbody>\n",
       "    <tr>\n",
       "      <th>0</th>\n",
       "      <td>-7350875131303561697</td>\n",
       "      <td>Tuna Pasta Salad</td>\n",
       "      <td>81.82</td>\n",
       "      <td>Breakfast</td>\n",
       "      <td>486.67</td>\n",
       "      <td>0.20700</td>\n",
       "      <td>5.00</td>\n",
       "      <td>54.67</td>\n",
       "      <td>24.67</td>\n",
       "      <td>16.00</td>\n",
       "      <td>1.67</td>\n",
       "      <td>3.33</td>\n",
       "    </tr>\n",
       "    <tr>\n",
       "      <th>1</th>\n",
       "      <td>-3720415708234728595</td>\n",
       "      <td>Air Fryer Hot Dogs</td>\n",
       "      <td>74.55</td>\n",
       "      <td>Lunch</td>\n",
       "      <td>222.75</td>\n",
       "      <td>0.50225</td>\n",
       "      <td>2.50</td>\n",
       "      <td>25.50</td>\n",
       "      <td>8.75</td>\n",
       "      <td>9.00</td>\n",
       "      <td>2.75</td>\n",
       "      <td>1.50</td>\n",
       "    </tr>\n",
       "    <tr>\n",
       "      <th>2</th>\n",
       "      <td>4730887800733880567</td>\n",
       "      <td>Steak and potato</td>\n",
       "      <td>80.00</td>\n",
       "      <td>Dinner</td>\n",
       "      <td>710.00</td>\n",
       "      <td>0.38000</td>\n",
       "      <td>3.00</td>\n",
       "      <td>49.00</td>\n",
       "      <td>50.00</td>\n",
       "      <td>31.00</td>\n",
       "      <td>13.00</td>\n",
       "      <td>6.00</td>\n",
       "    </tr>\n",
       "    <tr>\n",
       "      <th>3</th>\n",
       "      <td>-8968252886510129462</td>\n",
       "      <td>Crocket</td>\n",
       "      <td>74.55</td>\n",
       "      <td>Snack</td>\n",
       "      <td>242.00</td>\n",
       "      <td>0.05500</td>\n",
       "      <td>35.00</td>\n",
       "      <td>38.00</td>\n",
       "      <td>15.00</td>\n",
       "      <td>0.00</td>\n",
       "      <td>0.00</td>\n",
       "      <td>3.00</td>\n",
       "    </tr>\n",
       "    <tr>\n",
       "      <th>4</th>\n",
       "      <td>-5195237535349084959</td>\n",
       "      <td>Broccoli Cheese Soup</td>\n",
       "      <td>70.91</td>\n",
       "      <td>Lunch</td>\n",
       "      <td>141.00</td>\n",
       "      <td>0.21733</td>\n",
       "      <td>1.75</td>\n",
       "      <td>9.33</td>\n",
       "      <td>2.50</td>\n",
       "      <td>9.92</td>\n",
       "      <td>6.08</td>\n",
       "      <td>0.50</td>\n",
       "    </tr>\n",
       "  </tbody>\n",
       "</table>\n",
       "</div>"
      ],
      "text/plain": [
       "                    id                 title  nutriScore   mealType    kcal  \\\n",
       "0 -7350875131303561697      Tuna Pasta Salad       81.82  Breakfast  486.67   \n",
       "1 -3720415708234728595    Air Fryer Hot Dogs       74.55      Lunch  222.75   \n",
       "2  4730887800733880567      Steak and potato       80.00     Dinner  710.00   \n",
       "3 -8968252886510129462               Crocket       74.55      Snack  242.00   \n",
       "4 -5195237535349084959  Broccoli Cheese Soup       70.91      Lunch  141.00   \n",
       "\n",
       "    sodium  sugars  carbs  protein    fat  saturates  fibre  \n",
       "0  0.20700    5.00  54.67    24.67  16.00       1.67   3.33  \n",
       "1  0.50225    2.50  25.50     8.75   9.00       2.75   1.50  \n",
       "2  0.38000    3.00  49.00    50.00  31.00      13.00   6.00  \n",
       "3  0.05500   35.00  38.00    15.00   0.00       0.00   3.00  \n",
       "4  0.21733    1.75   9.33     2.50   9.92       6.08   0.50  "
      ]
     },
     "execution_count": 10,
     "metadata": {},
     "output_type": "execute_result"
    }
   ],
   "source": [
    "df.head()"
   ]
  },
  {
   "cell_type": "code",
   "execution_count": 170,
   "id": "babeafcc-e0b7-42d7-8e6a-0e9d8134feb0",
   "metadata": {},
   "outputs": [
    {
     "data": {
      "text/plain": [
       "['kcal', 'sodium', 'sugars', 'carbs', 'protein', 'fat', 'saturates', 'fibre']"
      ]
     },
     "execution_count": 170,
     "metadata": {},
     "output_type": "execute_result"
    }
   ],
   "source": [
    "list(df.loc[:, \"kcal\":].columns)"
   ]
  },
  {
   "cell_type": "markdown",
   "id": "9acea9ce-2487-4ee4-b06d-417ed80d1b2e",
   "metadata": {
    "jp-MarkdownHeadingCollapsed": true,
    "tags": []
   },
   "source": [
    "# Load the dataset locally"
   ]
  },
  {
   "cell_type": "code",
   "execution_count": 3,
   "id": "3adef211-2220-4eb7-8966-f7f0b86bd679",
   "metadata": {},
   "outputs": [
    {
     "data": {
      "text/html": [
       "<div>\n",
       "<style scoped>\n",
       "    .dataframe tbody tr th:only-of-type {\n",
       "        vertical-align: middle;\n",
       "    }\n",
       "\n",
       "    .dataframe tbody tr th {\n",
       "        vertical-align: top;\n",
       "    }\n",
       "\n",
       "    .dataframe thead th {\n",
       "        text-align: right;\n",
       "    }\n",
       "</style>\n",
       "<table border=\"1\" class=\"dataframe\">\n",
       "  <thead>\n",
       "    <tr style=\"text-align: right;\">\n",
       "      <th></th>\n",
       "      <th>id</th>\n",
       "      <th>title</th>\n",
       "      <th>nutriScore</th>\n",
       "      <th>mealType</th>\n",
       "      <th>kcal</th>\n",
       "      <th>sodium</th>\n",
       "      <th>sugars</th>\n",
       "      <th>carbs</th>\n",
       "      <th>protein</th>\n",
       "      <th>fat</th>\n",
       "      <th>saturates</th>\n",
       "      <th>fibre</th>\n",
       "    </tr>\n",
       "  </thead>\n",
       "  <tbody>\n",
       "    <tr>\n",
       "      <th>0</th>\n",
       "      <td>-7350875131303561697</td>\n",
       "      <td>Tuna Pasta Salad</td>\n",
       "      <td>81.82</td>\n",
       "      <td>Breakfast</td>\n",
       "      <td>486.67</td>\n",
       "      <td>0.20700</td>\n",
       "      <td>5.00</td>\n",
       "      <td>54.67</td>\n",
       "      <td>24.67</td>\n",
       "      <td>16.00</td>\n",
       "      <td>1.67</td>\n",
       "      <td>3.33</td>\n",
       "    </tr>\n",
       "    <tr>\n",
       "      <th>1</th>\n",
       "      <td>-3720415708234728595</td>\n",
       "      <td>Air Fryer Hot Dogs</td>\n",
       "      <td>74.55</td>\n",
       "      <td>Lunch</td>\n",
       "      <td>222.75</td>\n",
       "      <td>0.50225</td>\n",
       "      <td>2.50</td>\n",
       "      <td>25.50</td>\n",
       "      <td>8.75</td>\n",
       "      <td>9.00</td>\n",
       "      <td>2.75</td>\n",
       "      <td>1.50</td>\n",
       "    </tr>\n",
       "    <tr>\n",
       "      <th>2</th>\n",
       "      <td>4730887800733880567</td>\n",
       "      <td>Steak and potato</td>\n",
       "      <td>80.00</td>\n",
       "      <td>Dinner</td>\n",
       "      <td>710.00</td>\n",
       "      <td>0.38000</td>\n",
       "      <td>3.00</td>\n",
       "      <td>49.00</td>\n",
       "      <td>50.00</td>\n",
       "      <td>31.00</td>\n",
       "      <td>13.00</td>\n",
       "      <td>6.00</td>\n",
       "    </tr>\n",
       "    <tr>\n",
       "      <th>3</th>\n",
       "      <td>-8968252886510129462</td>\n",
       "      <td>Crocket</td>\n",
       "      <td>74.55</td>\n",
       "      <td>Snack</td>\n",
       "      <td>242.00</td>\n",
       "      <td>0.05500</td>\n",
       "      <td>35.00</td>\n",
       "      <td>38.00</td>\n",
       "      <td>15.00</td>\n",
       "      <td>0.00</td>\n",
       "      <td>0.00</td>\n",
       "      <td>3.00</td>\n",
       "    </tr>\n",
       "    <tr>\n",
       "      <th>4</th>\n",
       "      <td>-5195237535349084959</td>\n",
       "      <td>Broccoli Cheese Soup</td>\n",
       "      <td>70.91</td>\n",
       "      <td>Lunch</td>\n",
       "      <td>141.00</td>\n",
       "      <td>0.21733</td>\n",
       "      <td>1.75</td>\n",
       "      <td>9.33</td>\n",
       "      <td>2.50</td>\n",
       "      <td>9.92</td>\n",
       "      <td>6.08</td>\n",
       "      <td>0.50</td>\n",
       "    </tr>\n",
       "  </tbody>\n",
       "</table>\n",
       "</div>"
      ],
      "text/plain": [
       "                    id                 title  nutriScore   mealType    kcal  \\\n",
       "0 -7350875131303561697      Tuna Pasta Salad       81.82  Breakfast  486.67   \n",
       "1 -3720415708234728595    Air Fryer Hot Dogs       74.55      Lunch  222.75   \n",
       "2  4730887800733880567      Steak and potato       80.00     Dinner  710.00   \n",
       "3 -8968252886510129462               Crocket       74.55      Snack  242.00   \n",
       "4 -5195237535349084959  Broccoli Cheese Soup       70.91      Lunch  141.00   \n",
       "\n",
       "    sodium  sugars  carbs  protein    fat  saturates  fibre  \n",
       "0  0.20700    5.00  54.67    24.67  16.00       1.67   3.33  \n",
       "1  0.50225    2.50  25.50     8.75   9.00       2.75   1.50  \n",
       "2  0.38000    3.00  49.00    50.00  31.00      13.00   6.00  \n",
       "3  0.05500   35.00  38.00    15.00   0.00       0.00   3.00  \n",
       "4  0.21733    1.75   9.33     2.50   9.92       6.08   0.50  "
      ]
     },
     "execution_count": 3,
     "metadata": {},
     "output_type": "execute_result"
    }
   ],
   "source": [
    "df = pd.read_csv(\"recipes.csv\", dtype = {\"title\": str, \"mealType\": str})\n",
    "df.head()"
   ]
  },
  {
   "cell_type": "code",
   "execution_count": 4,
   "id": "a77d0f66-07c9-4fb1-9d78-770513da56af",
   "metadata": {},
   "outputs": [
    {
     "name": "stdout",
     "output_type": "stream",
     "text": [
      "<class 'pandas.core.frame.DataFrame'>\n",
      "RangeIndex: 22 entries, 0 to 21\n",
      "Data columns (total 12 columns):\n",
      " #   Column      Non-Null Count  Dtype  \n",
      "---  ------      --------------  -----  \n",
      " 0   id          22 non-null     int64  \n",
      " 1   title       22 non-null     object \n",
      " 2   nutriScore  22 non-null     float64\n",
      " 3   mealType    22 non-null     object \n",
      " 4   kcal        22 non-null     float64\n",
      " 5   sodium      22 non-null     float64\n",
      " 6   sugars      22 non-null     float64\n",
      " 7   carbs       22 non-null     float64\n",
      " 8   protein     22 non-null     float64\n",
      " 9   fat         22 non-null     float64\n",
      " 10  saturates   22 non-null     float64\n",
      " 11  fibre       22 non-null     float64\n",
      "dtypes: float64(9), int64(1), object(2)\n",
      "memory usage: 2.2+ KB\n"
     ]
    }
   ],
   "source": [
    "df.info()"
   ]
  },
  {
   "cell_type": "code",
   "execution_count": 5,
   "id": "8354f05c-fd92-4b05-8b6d-f872d767edac",
   "metadata": {},
   "outputs": [
    {
     "data": {
      "text/plain": [
       "12"
      ]
     },
     "execution_count": 5,
     "metadata": {},
     "output_type": "execute_result"
    }
   ],
   "source": [
    "len(df.columns)"
   ]
  },
  {
   "cell_type": "markdown",
   "id": "001cd651-d33e-497c-b4bf-936bc1fe262d",
   "metadata": {},
   "source": [
    "# Train models"
   ]
  },
  {
   "cell_type": "code",
   "execution_count": 155,
   "id": "61bf7bab-cfad-4f35-920e-02e04b5ba630",
   "metadata": {},
   "outputs": [],
   "source": [
    "breakfast_df = df.loc[df[\"mealType\"].str.contains(\"Breakfast\"), :]\n",
    "lunch_df = df.loc[df[\"mealType\"].str.contains(\"Lunch\"), \"kcal\":]\n",
    "snack_df = df.loc[df[\"mealType\"].str.contains(\"Dinner\"), \"kcal\":]\n",
    "dinner_df = df.loc[df[\"mealType\"].str.contains(\"Snack\"), \"kcal\":]"
   ]
  },
  {
   "cell_type": "code",
   "execution_count": 14,
   "id": "be82e748-e215-4d78-8bba-087d9d38a3fd",
   "metadata": {},
   "outputs": [],
   "source": [
    "breakfast_arr = df.loc[df[\"mealType\"].str.contains(\"Breakfast\"), \"kcal\":].to_numpy()\n",
    "lunch_arr = df.loc[df[\"mealType\"].str.contains(\"Lunch\"), \"kcal\":].to_numpy()\n",
    "snack_arr = df.loc[df[\"mealType\"].str.contains(\"Dinner\"), \"kcal\":].to_numpy()\n",
    "dinner_arr = df.loc[df[\"mealType\"].str.contains(\"Snack\"), \"kcal\":].to_numpy()"
   ]
  },
  {
   "cell_type": "code",
   "execution_count": 162,
   "id": "09346d24-0b4a-4d6e-b005-20629558963e",
   "metadata": {},
   "outputs": [
    {
     "data": {
      "text/plain": [
       "{'id': -7350875131303561697,\n",
       " 'title': 'Tuna Pasta Salad',\n",
       " 'nutriScore': 81.82,\n",
       " 'mealType': 'Breakfast',\n",
       " 'kcal': 486.67,\n",
       " 'sodium': 0.207,\n",
       " 'sugars': 5.0,\n",
       " 'carbs': 54.67,\n",
       " 'protein': 24.67,\n",
       " 'fat': 16.0,\n",
       " 'saturates': 1.67,\n",
       " 'fibre': 3.33}"
      ]
     },
     "execution_count": 162,
     "metadata": {},
     "output_type": "execute_result"
    }
   ],
   "source": [
    "dict(breakfast_df.iloc[0,:])"
   ]
  },
  {
   "cell_type": "code",
   "execution_count": 16,
   "id": "03295a83-b2ff-4bbd-8b6f-1a871e121e20",
   "metadata": {},
   "outputs": [],
   "source": [
    "breakfast_neigh = NearestNeighbors(n_neighbors=3).fit(breakfast_arr)\n",
    "lunch_neigh = NearestNeighbors(n_neighbors=3).fit(lunch_arr)\n",
    "snack_neigh = NearestNeighbors(n_neighbors=3).fit(snack_arr)\n",
    "dinner_neigh = NearestNeighbors(n_neighbors=3).fit(dinner_arr)"
   ]
  },
  {
   "cell_type": "markdown",
   "id": "e277383a-4d30-4f76-bc44-e02a25627912",
   "metadata": {},
   "source": [
    "# Load sample request locally"
   ]
  },
  {
   "cell_type": "code",
   "execution_count": 17,
   "id": "935422e9-7cdb-4a7a-9792-1be27df6e461",
   "metadata": {},
   "outputs": [
    {
     "data": {
      "text/plain": [
       "dict_keys(['x-access-token', 'suggestNutriIntake', 'numMeals', 'Breakfast', 'Lunch', 'Dinner', 'Snack'])"
      ]
     },
     "execution_count": 17,
     "metadata": {},
     "output_type": "execute_result"
    }
   ],
   "source": [
    "with open(\"sample_request.json\", \"r\") as f:\n",
    "    sample_request = json.load(f)\n",
    "sample_request.keys()"
   ]
  },
  {
   "cell_type": "code",
   "execution_count": 18,
   "id": "71fd5597-edda-410c-b9eb-cc9cadcf45ad",
   "metadata": {},
   "outputs": [
    {
     "data": {
      "text/plain": [
       "{'kcal': 2816,\n",
       " 'sodium': 2300,\n",
       " 'sugars': 70,\n",
       " 'carbs': 420,\n",
       " 'protein': 109,\n",
       " 'fat': 78,\n",
       " 'saturates': 31,\n",
       " 'fibre': 39}"
      ]
     },
     "execution_count": 18,
     "metadata": {},
     "output_type": "execute_result"
    }
   ],
   "source": [
    "sample_request[\"suggestNutriIntake\"]"
   ]
  },
  {
   "cell_type": "markdown",
   "id": "47c0c9e4-1060-43fe-932b-283e7f704787",
   "metadata": {},
   "source": [
    "# Calculate randomized ratio"
   ]
  },
  {
   "cell_type": "code",
   "execution_count": 123,
   "id": "9ef9f148-27f1-4a65-ae87-b630d27d7610",
   "metadata": {},
   "outputs": [
    {
     "name": "stdout",
     "output_type": "stream",
     "text": [
      "[0.28, 0.35, 0.05, 0.32] 1.0\n"
     ]
    }
   ],
   "source": [
    "num_meals = sample_request[\"numMeals\"]\n",
    "\n",
    "org_ratios = {\n",
    "    3: [(0.30, 0.35), (0.35, 0.4), (0.25, 0.35)],\n",
    "    4: [(0.25, 0.3), (0.35, 0.4), (0.05, 0.1), (0.25, 0.3)]\n",
    "}\n",
    "def randomize_meal_ratios(org_ratios: dict, num_meals: int, smallest_step = 0.01) -> list:\n",
    "    \"\"\"\n",
    "    Given a dictionary with lits of meal ratios ranges, key is the number of meals. Randomize the ratio\n",
    "    for each meal then return the result list. For example [(0.3, 0.35)] -> randomize to a number in the range\n",
    "    of 0.3 - 0.35.\n",
    "    \"\"\"\n",
    "    randomized_ratios = []\n",
    "    smallest_step = 0.01\n",
    "\n",
    "    # The last meal is not randomized.\n",
    "    try:\n",
    "        for min_ratio, max_ratio in org_ratios[num_meals][:-1]:\n",
    "            rand_ratio = np.around(np.random.choice(np.arange(min_ratio, max_ratio + smallest_step, smallest_step), size=1)[0], 2)\n",
    "            randomized_ratios.append(rand_ratio)\n",
    "    except KeyError:\n",
    "        error_log = {\"error\": f\"{num_meals} meals is not implemented\"}\n",
    "        return error_log\n",
    "\n",
    "    randomized_ratios.append(np.around(1 - sum(randomized_ratios), 2))\n",
    "    return randomized_ratios\n",
    "\n",
    "randomized_ratios = randomize_meal_ratios(org_ratios, num_meals)\n",
    "print(randomized_ratios, sum(randomized_ratios))"
   ]
  },
  {
   "cell_type": "markdown",
   "id": "6e2ec5d0-84ae-412f-b85b-b2d2402351af",
   "metadata": {},
   "source": [
    "# Calculate remaining nutrition based on already chosen meals"
   ]
  },
  {
   "cell_type": "code",
   "execution_count": 124,
   "id": "77cb9db7-a632-4882-add1-6c6255f1030f",
   "metadata": {},
   "outputs": [],
   "source": [
    "def subtract_nutri(total_nutri: dict, target_nutri: dict) -> dict:\n",
    "    \"\"\"\n",
    "    Calculate the remaning nutrition by subtracting target_nutri from total_nutri.\n",
    "    \"\"\"\n",
    "    result = {}\n",
    "    try:\n",
    "        for nutri in total_nutri.keys():\n",
    "            result[nutri] = total_nutri[nutri] - target_nutri[nutri]\n",
    "    except KeyError:\n",
    "        return {\"error\": f\"{nutri} does not exist in the recipe\"}\n",
    "    return result"
   ]
  },
  {
   "cell_type": "code",
   "execution_count": 125,
   "id": "bbaf8d68-0b95-41fe-a031-e2f87b12f6d8",
   "metadata": {},
   "outputs": [
    {
     "data": {
      "text/plain": [
       "{'kcal': 2552,\n",
       " 'sodium': 1902,\n",
       " 'sugars': 69,\n",
       " 'carbs': 408,\n",
       " 'protein': 96,\n",
       " 'fat': 63,\n",
       " 'saturates': 24,\n",
       " 'fibre': 38}"
      ]
     },
     "execution_count": 125,
     "metadata": {},
     "output_type": "execute_result"
    }
   ],
   "source": [
    "subtract_nutri(sample_request[\"suggestNutriIntake\"], sample_request[\"Breakfast\"])"
   ]
  },
  {
   "cell_type": "code",
   "execution_count": 154,
   "id": "d49271ad-96f2-4211-96f0-7ccecfa25d98",
   "metadata": {},
   "outputs": [],
   "source": [
    "meal_names = {\n",
    "    3: [\"Breakfast\", \"Lunch\", \"Dinner\"],\n",
    "    4: [\"Breakfast\", \"Lunch\", \"Snack\", \"Dinner\"]\n",
    "}\n",
    "def remain_total_NutriRatio(meal_request: dict, meal_names: dict, meal_ratios: dict) -> (float, dict):\n",
    "    \"\"\"\n",
    "    Iterating through all chosen meals and calculate the remaining meal nutrition. Also\n",
    "    calculating remaining meal ratios.\n",
    "    \"\"\"\n",
    "    totalRec_nutri = meal_request[\"suggestNutriIntake\"]\n",
    "    num_meals = meal_request[\"numMeals\"]\n",
    "    total_ratio = 1.0\n",
    "    for meal_index, meal in enumerate(meal_names[num_meals]):\n",
    "        meal_nutri = meal_request[meal]\n",
    "        # Empty meals need to be recommended\n",
    "        if not meal_nutri:\n",
    "            pass\n",
    "        else:\n",
    "            total_ratio -= meal_ratios[meal_index]\n",
    "            totalRec_nutri = subtract_nutri(totalRec_nutri, meal_nutri)\n",
    "    return np.round(total_ratio, 2), totalRec_nutri"
   ]
  },
  {
   "cell_type": "code",
   "execution_count": 153,
   "id": "0dc030cd-4200-4431-8109-89dba1933a69",
   "metadata": {},
   "outputs": [
    {
     "data": {
      "text/plain": [
       "(0.4,\n",
       " {'kcal': 1842,\n",
       "  'sodium': 1522,\n",
       "  'sugars': 66,\n",
       "  'carbs': 359,\n",
       "  'protein': 46,\n",
       "  'fat': 32,\n",
       "  'saturates': 11,\n",
       "  'fibre': 32})"
      ]
     },
     "execution_count": 153,
     "metadata": {},
     "output_type": "execute_result"
    }
   ],
   "source": [
    "remain_ratio, remain_nutrition = remain_total_NutriRatio(sample_request, meal_names, randomized_ratios)\n",
    "remain_ratio, remain_nutrition"
   ]
  },
  {
   "cell_type": "code",
   "execution_count": 165,
   "id": "92f8b050-6c56-447e-aae6-e6d48ea920b5",
   "metadata": {},
   "outputs": [
    {
     "data": {
      "text/plain": [
       "(1.0,\n",
       " {'kcal': 2816,\n",
       "  'sodium': 2300,\n",
       "  'sugars': 70,\n",
       "  'carbs': 420,\n",
       "  'protein': 109,\n",
       "  'fat': 78,\n",
       "  'saturates': 31,\n",
       "  'fibre': 39})"
      ]
     },
     "execution_count": 165,
     "metadata": {},
     "output_type": "execute_result"
    }
   ],
   "source": [
    "remain_total_NutriRatio({\"suggestNutriIntake\": sample_request[\"suggestNutriIntake\"], \n",
    "                         \"numMeals\": 4,\n",
    "                        \"Breakfast\": {}, \n",
    "                        \"Lunch\": {},\n",
    "                        \"Snack\": {},\n",
    "                        \"Dinner\": {}}, meal_names, randomized_ratios)"
   ]
  },
  {
   "cell_type": "markdown",
   "id": "efbfcdcc-8ebf-429e-a5d3-d2268d71ca16",
   "metadata": {},
   "source": [
    "# Renormalize Ratios"
   ]
  },
  {
   "cell_type": "code",
   "execution_count": 150,
   "id": "c3577546-c1a8-4818-aa44-fe112571e2b0",
   "metadata": {},
   "outputs": [],
   "source": [
    "def reNormalize_ratio(base_ratios: list, remain_ratio: float) -> list:\n",
    "    \"\"\"\n",
    "    Renormalize base ratios based on the remaining ratio.\n",
    "    \"\"\"\n",
    "    new_base_ratios = np.round(np.array(base_ratios) / remain_ratio, 2)\n",
    "    return list(new_base_ratios)"
   ]
  },
  {
   "cell_type": "code",
   "execution_count": 164,
   "id": "87d43171-ef78-45ff-a377-1a84c85a294b",
   "metadata": {},
   "outputs": [
    {
     "data": {
      "text/plain": [
       "[0.7, 0.87, 0.12, 0.8]"
      ]
     },
     "execution_count": 164,
     "metadata": {},
     "output_type": "execute_result"
    }
   ],
   "source": [
    "normalized_ratios = reNormalize_ratio(randomized_ratios, remain_ratio)\n",
    "normalized_ratios"
   ]
  },
  {
   "cell_type": "markdown",
   "id": "970e7f01-e66a-42d5-bddc-7ea08396cba7",
   "metadata": {},
   "source": [
    "# Train models"
   ]
  },
  {
   "cell_type": "code",
   "execution_count": 167,
   "id": "9d42288c-fd47-48a6-9108-687caf6d9586",
   "metadata": {},
   "outputs": [
    {
     "data": {
      "text/plain": [
       "array({'kcal': 1842, 'sodium': 1522, 'sugars': 66, 'carbs': 359, 'protein': 46, 'fat': 32, 'saturates': 11, 'fibre': 32},\n",
       "      dtype=object)"
      ]
     },
     "execution_count": 167,
     "metadata": {},
     "output_type": "execute_result"
    }
   ],
   "source": [
    "np.array(remain_nutrition)"
   ]
  },
  {
   "cell_type": "code",
   "execution_count": 183,
   "id": "7a001435-903b-40de-9003-fea49c992b57",
   "metadata": {},
   "outputs": [],
   "source": [
    "def recommend_recipes(df: pd.DataFrame, meal_request: dict, total_nutrition: dict, meal_names: dict, meal_ratios: list, n_neighbors = 3) -> dict:\n",
    "    \"\"\"\n",
    "    Recommend recipes based on the request, empty dict means need to be recommended.\n",
    "    For each meal, take out the top 3 -> randomize a choice -> recommend.\n",
    "    \"\"\"\n",
    "    num_meals = meal_request[\"numMeals\"]\n",
    "    result = {}\n",
    "    for meal_index, meal in enumerate(meal_names[num_meals]):\n",
    "        meal_nutri = meal_request[meal]\n",
    "        # Empty meals need to be recommended\n",
    "        if not meal_nutri:\n",
    "            total_nutrition_arr = []\n",
    "            allMeal_arr = df.loc[df[\"mealType\"].str.contains(meal), \"kcal\":].to_numpy()\n",
    "            allMeal_df = df.loc[df[\"mealType\"].str.contains(meal), :]\n",
    "            \n",
    "            nutrition_order = list(allMeal_df.loc[:, \"kcal\":].columns)\n",
    "            for nutri in nutrition_order:\n",
    "                total_nutrition_arr.append(total_nutrition[nutri])\n",
    "            \n",
    "            meal_arr = meal_ratios[meal_index] * np.array(total_nutrition_arr)\n",
    "            top_rec_indx = NearestNeighbors(n_neighbors=n_neighbors).fit(allMeal_arr).kneighbors(meal_arr.reshape(1, -1), return_distance=False)\n",
    "            randomized_rec_indx = np.random.choice(top_rec_indx[0])\n",
    "            result[meal] = dict(allMeal_df.iloc[randomized_rec_indx, :])\n",
    "    return result"
   ]
  },
  {
   "cell_type": "code",
   "execution_count": 187,
   "id": "d6867074-42ff-44c0-87fe-612f31a521bb",
   "metadata": {},
   "outputs": [
    {
     "data": {
      "text/plain": [
       "(1602.54, 221.04)"
      ]
     },
     "execution_count": 187,
     "metadata": {},
     "output_type": "execute_result"
    }
   ],
   "source": [
    "0.87 * 1842, 0.12 * 1842"
   ]
  },
  {
   "cell_type": "code",
   "execution_count": 194,
   "id": "e8ec8131-731c-4510-9b30-d7b6c61e59d0",
   "metadata": {},
   "outputs": [
    {
     "data": {
      "text/plain": [
       "{'Lunch': {'id': -7951924760067307772,\n",
       "  'title': 'Cashew Chicken',\n",
       "  'nutriScore': 69.09,\n",
       "  'mealType': 'Lunch',\n",
       "  'kcal': 683.5,\n",
       "  'sodium': 0.78325,\n",
       "  'sugars': 0.5,\n",
       "  'carbs': 65.25,\n",
       "  'protein': 60.0,\n",
       "  'fat': 16.75,\n",
       "  'saturates': 3.0,\n",
       "  'fibre': 1.25},\n",
       " 'Snack': {'id': -6847128501804771164,\n",
       "  'title': 'Cookies and milk',\n",
       "  'nutriScore': 72.73,\n",
       "  'mealType': 'Snack',\n",
       "  'kcal': 254.0,\n",
       "  'sodium': 0.169,\n",
       "  'sugars': 13.0,\n",
       "  'carbs': 27.0,\n",
       "  'protein': 5.0,\n",
       "  'fat': 12.0,\n",
       "  'saturates': 4.0,\n",
       "  'fibre': 0.0}}"
      ]
     },
     "execution_count": 194,
     "metadata": {},
     "output_type": "execute_result"
    }
   ],
   "source": [
    "recommend_recipes(df, sample_request, remain_nutrition, meal_names, normalized_ratios)"
   ]
  }
 ],
 "metadata": {
  "kernelspec": {
   "display_name": "Python 3",
   "language": "python",
   "name": "python3"
  },
  "language_info": {
   "codemirror_mode": {
    "name": "ipython",
    "version": 3
   },
   "file_extension": ".py",
   "mimetype": "text/x-python",
   "name": "python",
   "nbconvert_exporter": "python",
   "pygments_lexer": "ipython3",
   "version": "3.9.15"
  }
 },
 "nbformat": 4,
 "nbformat_minor": 5
}
