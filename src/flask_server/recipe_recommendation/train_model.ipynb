{
 "cells": [
  {
   "cell_type": "markdown",
   "id": "14c5902c-31a8-42f0-a616-73fec4500e2d",
   "metadata": {},
   "source": [
    "# Setup"
   ]
  },
  {
   "cell_type": "code",
   "execution_count": 1,
   "id": "ce7487a8-49ad-47c9-bd03-4d4be09bd753",
   "metadata": {},
   "outputs": [],
   "source": [
    "import numpy as np\n",
    "import pandas as pd\n",
    "from sklearn.neighbors import NearestNeighbors\n",
    "import io\n",
    "import os\n",
    "import boto3\n",
    "import csv"
   ]
  },
  {
   "cell_type": "markdown",
   "id": "5a237af8-8bf6-4234-99a0-bc408e985dae",
   "metadata": {
    "tags": []
   },
   "source": [
    "# Load the dataset from S3 (Wait to solve problems on AWS first)"
   ]
  },
  {
   "cell_type": "code",
   "execution_count": 3,
   "id": "32ca4c8d-14ee-4cf8-bba8-e981918574bb",
   "metadata": {},
   "outputs": [],
   "source": [
    "AWS_ACCESS_KEY_ID = os.environ[\"AWS_ACCESS_KEY_ID\"]\n",
    "AWS_SECRET_ACCESS_KEY = os.environ[\"AWS_SECRET_ACCESS_KEY\"]\n",
    "AWS_DEFAULT_REGION = os.environ[\"AWS_DEFAULT_REGION\"]"
   ]
  },
  {
   "cell_type": "code",
   "execution_count": 8,
   "id": "4ea4ef88-823b-413b-b3df-9c2f6c1e1165",
   "metadata": {},
   "outputs": [],
   "source": [
    "s3_client = boto3.client('s3', region_name=AWS_DEFAULT_REGION,\n",
    "    aws_access_key_id=AWS_ACCESS_KEY_ID,\n",
    "    aws_secret_access_key=AWS_SECRET_ACCESS_KEY)\n",
    "bucket_name = \"our-recipe-recipes-table\"\n",
    "object_key = \"recipes.csv\""
   ]
  },
  {
   "cell_type": "code",
   "execution_count": 14,
   "id": "9d8c1ced-38e8-4104-a0a5-b1f664f3a659",
   "metadata": {},
   "outputs": [],
   "source": [
    "# Read the object directly into memory instead of downloading to local machine.\n",
    "csv_obj = s3_client.get_object(Bucket=bucket_name, Key=object_key)\n",
    "body = csv_obj['Body']\n",
    "csv_string = body.read().decode('utf-8')\n",
    "df = pd.read_csv(io.StringIO(csv_string), dtype = {\"title\": str, \"mealType\": str})\n",
    "#file_stream = io.BytesIO()\n",
    "#s3_client.download_fileobj(bucket_name, file_name, file_stream)"
   ]
  },
  {
   "cell_type": "code",
   "execution_count": 15,
   "id": "bf229c28-d901-4a40-867a-4ce99bddcda3",
   "metadata": {},
   "outputs": [
    {
     "data": {
      "text/html": [
       "<div>\n",
       "<style scoped>\n",
       "    .dataframe tbody tr th:only-of-type {\n",
       "        vertical-align: middle;\n",
       "    }\n",
       "\n",
       "    .dataframe tbody tr th {\n",
       "        vertical-align: top;\n",
       "    }\n",
       "\n",
       "    .dataframe thead th {\n",
       "        text-align: right;\n",
       "    }\n",
       "</style>\n",
       "<table border=\"1\" class=\"dataframe\">\n",
       "  <thead>\n",
       "    <tr style=\"text-align: right;\">\n",
       "      <th></th>\n",
       "      <th>id</th>\n",
       "      <th>title</th>\n",
       "      <th>nutriScore</th>\n",
       "      <th>mealType</th>\n",
       "      <th>kcal</th>\n",
       "      <th>sodium</th>\n",
       "      <th>sugars</th>\n",
       "      <th>carbs</th>\n",
       "      <th>protein</th>\n",
       "      <th>fat</th>\n",
       "      <th>saturates</th>\n",
       "      <th>fibre</th>\n",
       "    </tr>\n",
       "  </thead>\n",
       "  <tbody>\n",
       "    <tr>\n",
       "      <th>0</th>\n",
       "      <td>-297529017418066210</td>\n",
       "      <td>Coffee Protein Smoothie</td>\n",
       "      <td>60.00</td>\n",
       "      <td>Snack</td>\n",
       "      <td>356.40</td>\n",
       "      <td>0.14072</td>\n",
       "      <td>25.94</td>\n",
       "      <td>34.59</td>\n",
       "      <td>34.21</td>\n",
       "      <td>10.16</td>\n",
       "      <td>5.15</td>\n",
       "      <td>2.60</td>\n",
       "    </tr>\n",
       "    <tr>\n",
       "      <th>1</th>\n",
       "      <td>2984524080050943643</td>\n",
       "      <td>Sear tuna and potatoes</td>\n",
       "      <td>69.09</td>\n",
       "      <td>Dinner</td>\n",
       "      <td>368.50</td>\n",
       "      <td>1.55038</td>\n",
       "      <td>10.12</td>\n",
       "      <td>40.60</td>\n",
       "      <td>26.65</td>\n",
       "      <td>8.26</td>\n",
       "      <td>6.10</td>\n",
       "      <td>7.54</td>\n",
       "    </tr>\n",
       "    <tr>\n",
       "      <th>2</th>\n",
       "      <td>-134860378839050690</td>\n",
       "      <td>Sear tuna and potatoes</td>\n",
       "      <td>69.09</td>\n",
       "      <td>Dinner</td>\n",
       "      <td>368.50</td>\n",
       "      <td>1.55038</td>\n",
       "      <td>10.12</td>\n",
       "      <td>40.60</td>\n",
       "      <td>26.65</td>\n",
       "      <td>8.26</td>\n",
       "      <td>6.10</td>\n",
       "      <td>7.54</td>\n",
       "    </tr>\n",
       "    <tr>\n",
       "      <th>3</th>\n",
       "      <td>-6989815825829559279</td>\n",
       "      <td>Burrito Jars</td>\n",
       "      <td>81.82</td>\n",
       "      <td>Lunch</td>\n",
       "      <td>505.25</td>\n",
       "      <td>0.28775</td>\n",
       "      <td>6.25</td>\n",
       "      <td>15.25</td>\n",
       "      <td>54.50</td>\n",
       "      <td>21.50</td>\n",
       "      <td>3.25</td>\n",
       "      <td>8.75</td>\n",
       "    </tr>\n",
       "    <tr>\n",
       "      <th>4</th>\n",
       "      <td>1662862941331579196</td>\n",
       "      <td>NEW APPLE</td>\n",
       "      <td>72.73</td>\n",
       "      <td>Breakfast</td>\n",
       "      <td>115.00</td>\n",
       "      <td>0.00200</td>\n",
       "      <td>23.00</td>\n",
       "      <td>25.00</td>\n",
       "      <td>0.00</td>\n",
       "      <td>0.00</td>\n",
       "      <td>0.00</td>\n",
       "      <td>5.00</td>\n",
       "    </tr>\n",
       "  </tbody>\n",
       "</table>\n",
       "</div>"
      ],
      "text/plain": [
       "                    id                    title  nutriScore   mealType  \\\n",
       "0  -297529017418066210  Coffee Protein Smoothie       60.00      Snack   \n",
       "1  2984524080050943643   Sear tuna and potatoes       69.09     Dinner   \n",
       "2  -134860378839050690   Sear tuna and potatoes       69.09     Dinner   \n",
       "3 -6989815825829559279             Burrito Jars       81.82      Lunch   \n",
       "4  1662862941331579196                NEW APPLE       72.73  Breakfast   \n",
       "\n",
       "     kcal   sodium  sugars  carbs  protein    fat  saturates  fibre  \n",
       "0  356.40  0.14072   25.94  34.59    34.21  10.16       5.15   2.60  \n",
       "1  368.50  1.55038   10.12  40.60    26.65   8.26       6.10   7.54  \n",
       "2  368.50  1.55038   10.12  40.60    26.65   8.26       6.10   7.54  \n",
       "3  505.25  0.28775    6.25  15.25    54.50  21.50       3.25   8.75  \n",
       "4  115.00  0.00200   23.00  25.00     0.00   0.00       0.00   5.00  "
      ]
     },
     "execution_count": 15,
     "metadata": {},
     "output_type": "execute_result"
    }
   ],
   "source": [
    "df.head()"
   ]
  },
  {
   "cell_type": "markdown",
   "id": "9acea9ce-2487-4ee4-b06d-417ed80d1b2e",
   "metadata": {
    "jp-MarkdownHeadingCollapsed": true,
    "tags": []
   },
   "source": [
    "# Load the dataset locally"
   ]
  },
  {
   "cell_type": "code",
   "execution_count": 4,
   "id": "3adef211-2220-4eb7-8966-f7f0b86bd679",
   "metadata": {},
   "outputs": [
    {
     "data": {
      "text/html": [
       "<div>\n",
       "<style scoped>\n",
       "    .dataframe tbody tr th:only-of-type {\n",
       "        vertical-align: middle;\n",
       "    }\n",
       "\n",
       "    .dataframe tbody tr th {\n",
       "        vertical-align: top;\n",
       "    }\n",
       "\n",
       "    .dataframe thead th {\n",
       "        text-align: right;\n",
       "    }\n",
       "</style>\n",
       "<table border=\"1\" class=\"dataframe\">\n",
       "  <thead>\n",
       "    <tr style=\"text-align: right;\">\n",
       "      <th></th>\n",
       "      <th>id</th>\n",
       "      <th>title</th>\n",
       "      <th>nutriScore</th>\n",
       "      <th>mealType</th>\n",
       "      <th>kcal</th>\n",
       "      <th>sodium</th>\n",
       "      <th>sugars</th>\n",
       "      <th>carbs</th>\n",
       "      <th>protein</th>\n",
       "      <th>fat</th>\n",
       "      <th>saturates</th>\n",
       "      <th>fibre</th>\n",
       "    </tr>\n",
       "  </thead>\n",
       "  <tbody>\n",
       "    <tr>\n",
       "      <th>0</th>\n",
       "      <td>-297529017418066210</td>\n",
       "      <td>Coffee Protein Smoothie</td>\n",
       "      <td>60.00</td>\n",
       "      <td>Snack</td>\n",
       "      <td>356.40</td>\n",
       "      <td>0.14072</td>\n",
       "      <td>25.94</td>\n",
       "      <td>34.59</td>\n",
       "      <td>34.21</td>\n",
       "      <td>10.16</td>\n",
       "      <td>5.15</td>\n",
       "      <td>2.60</td>\n",
       "    </tr>\n",
       "    <tr>\n",
       "      <th>1</th>\n",
       "      <td>2984524080050943643</td>\n",
       "      <td>Sear tuna and potatoes</td>\n",
       "      <td>69.09</td>\n",
       "      <td>Dinner</td>\n",
       "      <td>368.50</td>\n",
       "      <td>1.55038</td>\n",
       "      <td>10.12</td>\n",
       "      <td>40.60</td>\n",
       "      <td>26.65</td>\n",
       "      <td>8.26</td>\n",
       "      <td>6.10</td>\n",
       "      <td>7.54</td>\n",
       "    </tr>\n",
       "    <tr>\n",
       "      <th>2</th>\n",
       "      <td>-134860378839050690</td>\n",
       "      <td>Sear tuna and potatoes</td>\n",
       "      <td>69.09</td>\n",
       "      <td>Dinner</td>\n",
       "      <td>368.50</td>\n",
       "      <td>1.55038</td>\n",
       "      <td>10.12</td>\n",
       "      <td>40.60</td>\n",
       "      <td>26.65</td>\n",
       "      <td>8.26</td>\n",
       "      <td>6.10</td>\n",
       "      <td>7.54</td>\n",
       "    </tr>\n",
       "    <tr>\n",
       "      <th>3</th>\n",
       "      <td>-6989815825829559279</td>\n",
       "      <td>Burrito Jars</td>\n",
       "      <td>81.82</td>\n",
       "      <td>Lunch</td>\n",
       "      <td>505.25</td>\n",
       "      <td>0.28775</td>\n",
       "      <td>6.25</td>\n",
       "      <td>15.25</td>\n",
       "      <td>54.50</td>\n",
       "      <td>21.50</td>\n",
       "      <td>3.25</td>\n",
       "      <td>8.75</td>\n",
       "    </tr>\n",
       "    <tr>\n",
       "      <th>4</th>\n",
       "      <td>1662862941331579196</td>\n",
       "      <td>NEW APPLE</td>\n",
       "      <td>72.73</td>\n",
       "      <td>Breakfast</td>\n",
       "      <td>115.00</td>\n",
       "      <td>0.00200</td>\n",
       "      <td>23.00</td>\n",
       "      <td>25.00</td>\n",
       "      <td>0.00</td>\n",
       "      <td>0.00</td>\n",
       "      <td>0.00</td>\n",
       "      <td>5.00</td>\n",
       "    </tr>\n",
       "  </tbody>\n",
       "</table>\n",
       "</div>"
      ],
      "text/plain": [
       "                    id                    title  nutriScore   mealType  \\\n",
       "0  -297529017418066210  Coffee Protein Smoothie       60.00      Snack   \n",
       "1  2984524080050943643   Sear tuna and potatoes       69.09     Dinner   \n",
       "2  -134860378839050690   Sear tuna and potatoes       69.09     Dinner   \n",
       "3 -6989815825829559279             Burrito Jars       81.82      Lunch   \n",
       "4  1662862941331579196                NEW APPLE       72.73  Breakfast   \n",
       "\n",
       "     kcal   sodium  sugars  carbs  protein    fat  saturates  fibre  \n",
       "0  356.40  0.14072   25.94  34.59    34.21  10.16       5.15   2.60  \n",
       "1  368.50  1.55038   10.12  40.60    26.65   8.26       6.10   7.54  \n",
       "2  368.50  1.55038   10.12  40.60    26.65   8.26       6.10   7.54  \n",
       "3  505.25  0.28775    6.25  15.25    54.50  21.50       3.25   8.75  \n",
       "4  115.00  0.00200   23.00  25.00     0.00   0.00       0.00   5.00  "
      ]
     },
     "execution_count": 4,
     "metadata": {},
     "output_type": "execute_result"
    }
   ],
   "source": [
    "df = pd.read_csv(\"data/recipes.csv\", dtype = {\"title\": str, \"mealType\": str})\n",
    "df.head()"
   ]
  },
  {
   "cell_type": "code",
   "execution_count": 5,
   "id": "a77d0f66-07c9-4fb1-9d78-770513da56af",
   "metadata": {},
   "outputs": [
    {
     "name": "stdout",
     "output_type": "stream",
     "text": [
      "<class 'pandas.core.frame.DataFrame'>\n",
      "RangeIndex: 8 entries, 0 to 7\n",
      "Data columns (total 12 columns):\n",
      " #   Column      Non-Null Count  Dtype  \n",
      "---  ------      --------------  -----  \n",
      " 0   id          8 non-null      int64  \n",
      " 1   title       8 non-null      object \n",
      " 2   nutriScore  8 non-null      float64\n",
      " 3   mealType    8 non-null      object \n",
      " 4   kcal        8 non-null      float64\n",
      " 5   sodium      8 non-null      float64\n",
      " 6   sugars      8 non-null      float64\n",
      " 7   carbs       8 non-null      float64\n",
      " 8   protein     8 non-null      float64\n",
      " 9   fat         8 non-null      float64\n",
      " 10  saturates   8 non-null      float64\n",
      " 11  fibre       8 non-null      float64\n",
      "dtypes: float64(9), int64(1), object(2)\n",
      "memory usage: 896.0+ bytes\n"
     ]
    }
   ],
   "source": [
    "df.info()"
   ]
  },
  {
   "cell_type": "code",
   "execution_count": 9,
   "id": "8354f05c-fd92-4b05-8b6d-f872d767edac",
   "metadata": {},
   "outputs": [
    {
     "data": {
      "text/plain": [
       "12"
      ]
     },
     "execution_count": 9,
     "metadata": {},
     "output_type": "execute_result"
    }
   ],
   "source": [
    "len(df.columns)"
   ]
  },
  {
   "cell_type": "markdown",
   "id": "001cd651-d33e-497c-b4bf-936bc1fe262d",
   "metadata": {},
   "source": [
    "# Train models"
   ]
  },
  {
   "cell_type": "code",
   "execution_count": 16,
   "id": "61bf7bab-cfad-4f35-920e-02e04b5ba630",
   "metadata": {},
   "outputs": [],
   "source": [
    "breakfast_df = df.loc[df[\"mealType\"].str.contains(\"Breakfast\"), \"kcal\":]\n",
    "lunch_df = df.loc[df[\"mealType\"].str.contains(\"Lunch\"), \"kcal\":]\n",
    "snack_df = df.loc[df[\"mealType\"].str.contains(\"Dinner\"), \"kcal\":]\n",
    "dinner_df = df.loc[df[\"mealType\"].str.contains(\"Snack\"), \"kcal\":]"
   ]
  },
  {
   "cell_type": "code",
   "execution_count": 17,
   "id": "be82e748-e215-4d78-8bba-087d9d38a3fd",
   "metadata": {},
   "outputs": [],
   "source": [
    "breakfast_arr = df.loc[df[\"mealType\"].str.contains(\"Breakfast\"), \"kcal\":].to_numpy()\n",
    "lunch_arr = df.loc[df[\"mealType\"].str.contains(\"Lunch\"), \"kcal\":].to_numpy()\n",
    "snack_arr = df.loc[df[\"mealType\"].str.contains(\"Dinner\"), \"kcal\":].to_numpy()\n",
    "dinner_arr = df.loc[df[\"mealType\"].str.contains(\"Snack\"), \"kcal\":].to_numpy()"
   ]
  },
  {
   "cell_type": "code",
   "execution_count": 18,
   "id": "09346d24-0b4a-4d6e-b005-20629558963e",
   "metadata": {},
   "outputs": [
    {
     "data": {
      "text/html": [
       "<div>\n",
       "<style scoped>\n",
       "    .dataframe tbody tr th:only-of-type {\n",
       "        vertical-align: middle;\n",
       "    }\n",
       "\n",
       "    .dataframe tbody tr th {\n",
       "        vertical-align: top;\n",
       "    }\n",
       "\n",
       "    .dataframe thead th {\n",
       "        text-align: right;\n",
       "    }\n",
       "</style>\n",
       "<table border=\"1\" class=\"dataframe\">\n",
       "  <thead>\n",
       "    <tr style=\"text-align: right;\">\n",
       "      <th></th>\n",
       "      <th>kcal</th>\n",
       "      <th>sodium</th>\n",
       "      <th>sugars</th>\n",
       "      <th>carbs</th>\n",
       "      <th>protein</th>\n",
       "      <th>fat</th>\n",
       "      <th>saturates</th>\n",
       "      <th>fibre</th>\n",
       "    </tr>\n",
       "  </thead>\n",
       "  <tbody>\n",
       "    <tr>\n",
       "      <th>4</th>\n",
       "      <td>115.00</td>\n",
       "      <td>0.00200</td>\n",
       "      <td>23.0</td>\n",
       "      <td>25.00</td>\n",
       "      <td>0.00</td>\n",
       "      <td>0.00</td>\n",
       "      <td>0.0</td>\n",
       "      <td>5.00</td>\n",
       "    </tr>\n",
       "    <tr>\n",
       "      <th>5</th>\n",
       "      <td>58.00</td>\n",
       "      <td>0.00100</td>\n",
       "      <td>0.0</td>\n",
       "      <td>0.00</td>\n",
       "      <td>1.00</td>\n",
       "      <td>3.00</td>\n",
       "      <td>0.0</td>\n",
       "      <td>4.00</td>\n",
       "    </tr>\n",
       "    <tr>\n",
       "      <th>7</th>\n",
       "      <td>58.32</td>\n",
       "      <td>0.00192</td>\n",
       "      <td>0.0</td>\n",
       "      <td>0.93</td>\n",
       "      <td>1.98</td>\n",
       "      <td>3.69</td>\n",
       "      <td>0.4</td>\n",
       "      <td>4.13</td>\n",
       "    </tr>\n",
       "  </tbody>\n",
       "</table>\n",
       "</div>"
      ],
      "text/plain": [
       "     kcal   sodium  sugars  carbs  protein   fat  saturates  fibre\n",
       "4  115.00  0.00200    23.0  25.00     0.00  0.00        0.0   5.00\n",
       "5   58.00  0.00100     0.0   0.00     1.00  3.00        0.0   4.00\n",
       "7   58.32  0.00192     0.0   0.93     1.98  3.69        0.4   4.13"
      ]
     },
     "execution_count": 18,
     "metadata": {},
     "output_type": "execute_result"
    }
   ],
   "source": [
    "breakfast_df"
   ]
  },
  {
   "cell_type": "code",
   "execution_count": 19,
   "id": "ccc8faac-9492-467d-b83a-b9c16df877c1",
   "metadata": {},
   "outputs": [
    {
     "data": {
      "text/plain": [
       "array([[1.150e+02, 2.000e-03, 2.300e+01, 2.500e+01, 0.000e+00, 0.000e+00,\n",
       "        0.000e+00, 5.000e+00],\n",
       "       [5.800e+01, 1.000e-03, 0.000e+00, 0.000e+00, 1.000e+00, 3.000e+00,\n",
       "        0.000e+00, 4.000e+00],\n",
       "       [5.832e+01, 1.920e-03, 0.000e+00, 9.300e-01, 1.980e+00, 3.690e+00,\n",
       "        4.000e-01, 4.130e+00]])"
      ]
     },
     "execution_count": 19,
     "metadata": {},
     "output_type": "execute_result"
    }
   ],
   "source": [
    "breakfast_arr"
   ]
  },
  {
   "cell_type": "code",
   "execution_count": 20,
   "id": "03295a83-b2ff-4bbd-8b6f-1a871e121e20",
   "metadata": {},
   "outputs": [],
   "source": [
    "breakfast_neigh = NearestNeighbors(n_neighbors=2).fit(breakfast_arr)\n",
    "lunch_neigh = NearestNeighbors(n_neighbors=2).fit(lunch_arr)\n",
    "snack_neigh = NearestNeighbors(n_neighbors=2).fit(snack_arr)\n",
    "dinner_neigh = NearestNeighbors(n_neighbors=2).fit(dinner_arr)"
   ]
  },
  {
   "cell_type": "code",
   "execution_count": 21,
   "id": "2493c985-5315-4268-bb91-ec6b3bcbd304",
   "metadata": {},
   "outputs": [
    {
     "data": {
      "text/plain": [
       "array([[1, 2]])"
      ]
     },
     "execution_count": 21,
     "metadata": {},
     "output_type": "execute_result"
    }
   ],
   "source": [
    "breakfast_sample = breakfast_arr[1]\n",
    "breakfast_pred = breakfast_neigh.kneighbors(breakfast_sample[np.newaxis, :], return_distance = False)\n",
    "breakfast_pred"
   ]
  },
  {
   "cell_type": "code",
   "execution_count": null,
   "id": "21ba786d-004a-4ad0-9800-5afae062c643",
   "metadata": {},
   "outputs": [],
   "source": [
    "def prepare_output(days: list, meals: list) -> dict:\n",
    "    \"\"\"\n",
    "    Prepare an output dict according to output_modeling.txt\n",
    "    \"\"\"\n",
    "    output_dict = {}\n",
    "    for day in days:\n",
    "        output_dict."
   ]
  },
  {
   "cell_type": "code",
   "execution_count": null,
   "id": "eb176bad-dec5-4ba9-b05f-810df48e8d22",
   "metadata": {},
   "outputs": [],
   "source": [
    "result_preds = {\"Monday\": [], \"Tuesday\"}"
   ]
  }
 ],
 "metadata": {
  "kernelspec": {
   "display_name": "Python 3",
   "language": "python",
   "name": "python3"
  },
  "language_info": {
   "codemirror_mode": {
    "name": "ipython",
    "version": 3
   },
   "file_extension": ".py",
   "mimetype": "text/x-python",
   "name": "python",
   "nbconvert_exporter": "python",
   "pygments_lexer": "ipython3",
   "version": "3.9.12"
  }
 },
 "nbformat": 4,
 "nbformat_minor": 5
}
